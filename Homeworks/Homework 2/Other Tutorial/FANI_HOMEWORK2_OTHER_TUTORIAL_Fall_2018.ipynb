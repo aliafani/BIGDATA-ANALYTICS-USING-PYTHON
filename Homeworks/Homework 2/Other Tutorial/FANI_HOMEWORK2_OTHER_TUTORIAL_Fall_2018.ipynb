{
 "cells": [
  {
   "cell_type": "markdown",
   "metadata": {},
   "source": [
    "# Python Functions -MAP, FILTER AND REDUCE\n",
    "- Python provides several functions which enable a functioanal apporach to programming. These functions are all convenience features in that they can be written in python fairly easily.\n",
    "\n",
    "# Functional programming\n",
    "- Functioanal programming is all about expression \n",
    "\n",
    "Expression oriented functions of python provides are\n",
    "1. map\n",
    "2. filter\n",
    "3. reduce"
   ]
  },
  {
   "cell_type": "code",
   "execution_count": 1,
   "metadata": {},
   "outputs": [
    {
     "data": {
      "text/plain": [
       "[1, 4, 9, 16]"
      ]
     },
     "execution_count": 1,
     "metadata": {},
     "output_type": "execute_result"
    }
   ],
   "source": [
    "#map function for squaring list, defined as map(aFunction, aSequence)\n",
    "\n",
    "items=[1,2,3,4]\n",
    "def sqr(x): return x ** 2\n",
    "\n",
    "list(map(sqr,items))\n"
   ]
  },
  {
   "cell_type": "markdown",
   "metadata": {},
   "source": [
    " In above code we passed a user defined function applied to each item in the list.map calls sqr on each list item and collects all the return values into a new list.\n",
    "\n",
    "\n",
    "map expects a function to be passed in, it also happens to be one of the places where lambda routinely appears."
   ]
  },
  {
   "cell_type": "markdown",
   "metadata": {},
   "source": [
    "# Filter and Reduce\n",
    "\n",
    "- As the name suggests filter extracts each element in the sequence for which the function returns true. \n",
    "  In other words: The function filter(f,l) needs a function f as its first argument. f has to return boolean value i.e either    true or False.fun\n",
    " - The reduce function reduces a list to single value by combining elements via a supplied function.\n",
    "\n"
   ]
  },
  {
   "cell_type": "code",
   "execution_count": 4,
   "metadata": {},
   "outputs": [
    {
     "name": "stdout",
     "output_type": "stream",
     "text": [
      "[1, 1, 3, 5, 13, 21, 55]\n"
     ]
    }
   ],
   "source": [
    "#Filter example, we filter out odd and even number\n",
    "fib=[0,1,1,2,3,5,8,13,21,34,55]\n",
    "odd_nums=list(filter(lambda x:x % 2, fib))\n",
    "print(odd_nums)\n"
   ]
  },
  {
   "cell_type": "code",
   "execution_count": 5,
   "metadata": {},
   "outputs": [
    {
     "name": "stdout",
     "output_type": "stream",
     "text": [
      "[0, 2, 8, 34]\n"
     ]
    }
   ],
   "source": [
    "even_nums=list(filter(lambda x:x % 2==0,fib))\n",
    "print(even_nums)"
   ]
  },
  {
   "cell_type": "code",
   "execution_count": 8,
   "metadata": {},
   "outputs": [
    {
     "data": {
      "text/plain": [
       "499500"
      ]
     },
     "execution_count": 8,
     "metadata": {},
     "output_type": "execute_result"
    }
   ],
   "source": [
    "#Example of reduce, we will use functools library\n",
    "#The functools module is for higher-order functions: \n",
    "#functions that act on or return other functions. \n",
    "#In general, any callable object can be treated as a function for the purposes of this module.\n",
    "# for more info visit https://docs.python.org/2/library/functools.html\n",
    "#finding sum of the number 1 to 1000\n",
    "\n",
    "from functools import reduce\n",
    "reduce(lambda x, y:x+y,range(1,1000))"
   ]
  },
  {
   "cell_type": "markdown",
   "metadata": {},
   "source": [
    "- References\n",
    "- https://docs.python.org/2/library/functools.html\n",
    "- https://www.bogotobogo.com/python/python_fncs_map_filter_reduce.php\n",
    "- http://book.pythontips.com/en/latest/map_filter.html\n"
   ]
  },
  {
   "cell_type": "code",
   "execution_count": null,
   "metadata": {},
   "outputs": [],
   "source": []
  }
 ],
 "metadata": {
  "kernelspec": {
   "display_name": "Python [conda env:Anaconda2]",
   "language": "python",
   "name": "conda-env-Anaconda2-py"
  },
  "language_info": {
   "codemirror_mode": {
    "name": "ipython",
    "version": 2
   },
   "file_extension": ".py",
   "mimetype": "text/x-python",
   "name": "python",
   "nbconvert_exporter": "python",
   "pygments_lexer": "ipython2",
   "version": "2.7.15"
  }
 },
 "nbformat": 4,
 "nbformat_minor": 2
}
