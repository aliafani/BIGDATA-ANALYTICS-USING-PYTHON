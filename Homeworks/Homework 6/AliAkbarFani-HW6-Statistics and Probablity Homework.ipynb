{
 "cells": [
  {
   "cell_type": "markdown",
   "metadata": {},
   "source": [
    "# HW 6 Statistics and probability homework\n",
    "\n",
    "Complete homework notebook in a homework directory with your name and zip up the homework directory and submit it to our class blackboard/elearn site.\n",
    "Complete all the parts 6.1 to 6.5 for score of 3.  \n",
    "\n",
    "Investigate plotting, linearegression, or complex matrix manipulation to get a score of 4 or cover two additional investigations for a score of 5. \n",
    "\n",
    "## 6.1 Coin flipping "
   ]
  },
  {
   "cell_type": "code",
   "execution_count": null,
   "metadata": {
    "collapsed": true
   },
   "outputs": [],
   "source": []
  },
  {
   "cell_type": "markdown",
   "metadata": {},
   "source": [
    "\n",
    "## 6.1.1\n",
    "Write a function, flip_sum,  which generates $n$ random coin flips from a fair coin and then returns the number of heads. \n",
    "\n",
    "A fair coin is defined to be a coin where $P($heads$)=\\frac{1}{2}$\n",
    "\n",
    "The output type should be a numpy integer, hint: use random.rand()\n"
   ]
  },
  {
   "cell_type": "code",
   "execution_count": 167,
   "metadata": {},
   "outputs": [],
   "source": [
    "import random \n",
    "\n",
    "# The function \"flip_sum\" below return the number of head divided by the number of coin toss\n",
    "# The input variable \"number_toss\" is number of times we toss a coin\n",
    "def flip_sum(number_toss):\n",
    "\n",
    "    # \"heads\" is our number of heads. \n",
    "    # Initially it is equal to 0\n",
    "    heads = 0\n",
    "\n",
    "    \n",
    "    for i in range(0, number_toss):\n",
    "               \n",
    "        flip = int(random.random()*2)\n",
    "        \n",
    "\n",
    "        if (flip == 0):\n",
    "            # \"flip\" = 0, so it's a head !\n",
    "            # We have to increment the number of \"heads\" by 1:\n",
    "            heads=heads + 1 \n",
    "\n",
    "    return heads\n",
    "\n"
   ]
  },
  {
   "cell_type": "markdown",
   "metadata": {},
   "source": [
    "## 6.1.2 Test it \n",
    "Check it by showing the results of 100 coins being flipped"
   ]
  },
  {
   "cell_type": "code",
   "execution_count": 168,
   "metadata": {},
   "outputs": [
    {
     "name": "stdout",
     "output_type": "stream",
     "text": [
      "Total number of heads 49\n"
     ]
    }
   ],
   "source": [
    "my_number_toss = 100\n",
    "my_head = flip_sum(my_number_toss)\n",
    "print (\"Total number of heads {}\".format(my_head))"
   ]
  },
  {
   "cell_type": "markdown",
   "metadata": {},
   "source": [
    "## 6.1.3 Create and display a histogram of 200 experiments of flipping 5 coins."
   ]
  },
  {
   "cell_type": "code",
   "execution_count": 170,
   "metadata": {},
   "outputs": [
    {
     "data": {
      "text/plain": [
       "<matplotlib.axes._subplots.AxesSubplot at 0xc493ac8>"
      ]
     },
     "execution_count": 170,
     "metadata": {},
     "output_type": "execute_result"
    },
    {
     "data": {
      "image/png": "[encoded data removed]",
      "text/plain": [
       "<Figure size 432x288 with 1 Axes>"
      ]
     },
     "metadata": {},
     "output_type": "display_data"
    }
   ],
   "source": [
    "data=[flip_sum(5) for i in range(200)]\n",
    "Showdata=pd.Series(data)\n",
    "Showdata.plot.hist()"
   ]
  },
  {
   "cell_type": "code",
   "execution_count": null,
   "metadata": {},
   "outputs": [],
   "source": []
  },
  {
   "cell_type": "code",
   "execution_count": null,
   "metadata": {},
   "outputs": [],
   "source": []
  },
  {
   "cell_type": "markdown",
   "metadata": {},
   "source": [
    "## 6.1.4\n",
    "Write a function, estimate_prob, that uses flip_sum to estimate the following probability:\n",
    "\n",
    "$P(  k_1 <= $ number of heads in $n$ flips $< k_2 ) $\n",
    "\n",
    "The function should estimate the probability by running $m$ different trials of flip_sum(n), probably using a for loop.\n",
    "\n",
    "In order to receive full credit estimate_prob call flip_sum (aka: flip_sum is located inside the estimate_prob function)"
   ]
  },
  {
   "cell_type": "code",
   "execution_count": 187,
   "metadata": {},
   "outputs": [],
   "source": [
    "def estimate_prob(n,k1,k2,m):\n",
    "    \"\"\"Estimate the probability that n flips of a fair coin result in k1 to k2 heads\n",
    "         n: the number of coin flips (length of the sequence)\n",
    "         k1,k2: the trial is successful if the number of heads is \n",
    "                between k1 and k2-1\n",
    "         m: the number of trials (number of sequences of length n)\n",
    "         \n",
    "         output: the estimated probability \n",
    "         \"\"\"\n",
    "    success=0.0\n",
    "    for i in range(m):\n",
    "        heads= flip_sum(n)\n",
    "        #print(heads)\n",
    "        if heads>=k1 and heads<k2:\n",
    "            success+=1\n",
    "    \n",
    "    return success/m"
   ]
  },
  {
   "cell_type": "code",
   "execution_count": 188,
   "metadata": {},
   "outputs": [
    {
     "name": "stdout",
     "output_type": "stream",
     "text": [
      "0.68\n"
     ]
    }
   ],
   "source": [
    "# this is a small sanity check\n",
    "\n",
    "\n",
    "x = estimate_prob(100,45,55,1000)\n",
    "print x\n",
    "#assert 'float' in str(type(x))\n",
    "#print \"does x==0.687?\""
   ]
  },
  {
   "cell_type": "markdown",
   "metadata": {},
   "source": [
    "## 6.2.2  Calculate the actual probablities and compare it to your estimates for:\n",
    "n= number of coins\n",
    "k1 = min number of heads\n",
    "k2 = upper limit of number of heads\n",
    "m = the number of experiments\n",
    "### 6.2.2.a n=100, k1 = 40, k2=60 m=100\n"
   ]
  },
  {
   "cell_type": "code",
   "execution_count": 189,
   "metadata": {},
   "outputs": [
    {
     "name": "stdout",
     "output_type": "stream",
     "text": [
      "0.96\n",
      "does x==0.955?\n"
     ]
    }
   ],
   "source": [
    "x = estimate_prob(100,40,60,100)\n",
    "print x\n",
    "assert 'float' in str(type(x))\n",
    "print (\"does x==0.955?\")"
   ]
  },
  {
   "cell_type": "markdown",
   "metadata": {},
   "source": [
    "### 6.2.2.b n=100, k1 = 40, k2=60 m=1000"
   ]
  },
  {
   "cell_type": "code",
   "execution_count": 190,
   "metadata": {},
   "outputs": [
    {
     "name": "stdout",
     "output_type": "stream",
     "text": [
      "0.96\n",
      "does x==0.955?\n"
     ]
    }
   ],
   "source": [
    "x = estimate_prob(100,40,60,1000)\n",
    "print x\n",
    "assert 'float' in str(type(x))\n",
    "print (\"does x==0.955?\")"
   ]
  },
  {
   "cell_type": "markdown",
   "metadata": {},
   "source": [
    "# 6.3 Conditional probablity"
   ]
  },
  {
   "cell_type": "markdown",
   "metadata": {},
   "source": [
    "In a recent study, the following data were obtained in response to the question\"\n",
    "    \"Do you favor the proposal of the school’s combining the elementary and middle school students in one building?\"\n",
    "    \n",
    "Answers = [Yes, No, No opinion]\n",
    "Males = [75, 89, 10]\n",
    "Females = [105, 56, 6]\n",
    "\n",
    "If a person is selected at random, find these probabilities solving using python.\n",
    "1. The person has no opinion\n",
    "2. The person is a male or is against the issue.\n",
    "3. The person is a female, given that the person opposes the issue."
   ]
  },
  {
   "cell_type": "code",
   "execution_count": 134,
   "metadata": {},
   "outputs": [
    {
     "data": {
      "text/html": [
       "<div>\n",
       "<style scoped>\n",
       "    .dataframe tbody tr th:only-of-type {\n",
       "        vertical-align: middle;\n",
       "    }\n",
       "\n",
       "    .dataframe tbody tr th {\n",
       "        vertical-align: top;\n",
       "    }\n",
       "\n",
       "    .dataframe thead th {\n",
       "        text-align: right;\n",
       "    }\n",
       "</style>\n",
       "<table border=\"1\" class=\"dataframe\">\n",
       "  <thead>\n",
       "    <tr style=\"text-align: right;\">\n",
       "      <th></th>\n",
       "      <th>Females</th>\n",
       "      <th>Males</th>\n",
       "    </tr>\n",
       "    <tr>\n",
       "      <th>Answers</th>\n",
       "      <th></th>\n",
       "      <th></th>\n",
       "    </tr>\n",
       "  </thead>\n",
       "  <tbody>\n",
       "    <tr>\n",
       "      <th>Yes</th>\n",
       "      <td>105</td>\n",
       "      <td>75</td>\n",
       "    </tr>\n",
       "    <tr>\n",
       "      <th>No</th>\n",
       "      <td>56</td>\n",
       "      <td>89</td>\n",
       "    </tr>\n",
       "    <tr>\n",
       "      <th>No Opinion</th>\n",
       "      <td>6</td>\n",
       "      <td>10</td>\n",
       "    </tr>\n",
       "  </tbody>\n",
       "</table>\n",
       "</div>"
      ],
      "text/plain": [
       "            Females  Males\n",
       "Answers                   \n",
       "Yes             105     75\n",
       "No               56     89\n",
       "No Opinion        6     10"
      ]
     },
     "execution_count": 134,
     "metadata": {},
     "output_type": "execute_result"
    }
   ],
   "source": [
    " df_conditional = pd.DataFrame({'Answers': ['Yes', 'No', 'No Opinion'],\n",
    "                     'Males': [75,89,10],\n",
    "                     'Females': [105,56,6]})\n",
    "#df_conditional \n",
    "df_conditional=df_conditional.set_index('Answers')\n",
    "df_conditional"
   ]
  },
  {
   "cell_type": "code",
   "execution_count": 164,
   "metadata": {},
   "outputs": [
    {
     "name": "stdout",
     "output_type": "stream",
     "text": [
      "0.0469208211144\n"
     ]
    }
   ],
   "source": [
    "total_sum=float(df_conditional['Females'].sum() + df_conditional['Males'].sum()) \n",
    "total_no_opinion=float(df_conditional.loc['No Opinion',\"Females\"] + df_conditional.loc['No Opinion',\"Males\"]) \n",
    "probab_no=total_no_opinion/total_sum\n",
    "print(probab_no)"
   ]
  },
  {
   "cell_type": "code",
   "execution_count": 236,
   "metadata": {},
   "outputs": [
    {
     "data": {
      "text/plain": [
       "0.0469208211143695"
      ]
     },
     "execution_count": 236,
     "metadata": {},
     "output_type": "execute_result"
    }
   ],
   "source": [
    "#df_conditional.iloc[[2], [1,2]] # 1st, 4th, 7th, 25th row + 1st 6th 7th columns.\n",
    "df_conditional.loc['No Opinion',\"Females\"] + df_conditional.loc['No Opinion',\"Males\"] \n",
    "total_no_opinion/total_sum"
   ]
  },
  {
   "cell_type": "code",
   "execution_count": null,
   "metadata": {},
   "outputs": [],
   "source": []
  },
  {
   "cell_type": "markdown",
   "metadata": {},
   "source": [
    "## 6.4 Matrix creation\n",
    "Write a 12 by 12 times table matrix shown below.\n",
    "Do this\n",
    "6.4.1 using nested for loops\n",
    "6.4.2 using numpy fromfunction array constructor\n",
    "6.4.3 using numpy broadcasting"
   ]
  },
  {
   "cell_type": "code",
   "execution_count": 7,
   "metadata": {},
   "outputs": [
    {
     "data": {
      "text/plain": [
       "array([[  1,   2,   3,   4,   5,   6,   7,   8,   9,  10,  11,  12],\n",
       "       [  2,   4,   6,   8,  10,  12,  14,  16,  18,  20,  22,  24],\n",
       "       [  3,   6,   9,  12,  15,  18,  21,  24,  27,  30,  33,  36],\n",
       "       [  4,   8,  12,  16,  20,  24,  28,  32,  36,  40,  44,  48],\n",
       "       [  5,  10,  15,  20,  25,  30,  35,  40,  45,  50,  55,  60],\n",
       "       [  6,  12,  18,  24,  30,  36,  42,  48,  54,  60,  66,  72],\n",
       "       [  7,  14,  21,  28,  35,  42,  49,  56,  63,  70,  77,  84],\n",
       "       [  8,  16,  24,  32,  40,  48,  56,  64,  72,  80,  88,  96],\n",
       "       [  9,  18,  27,  36,  45,  54,  63,  72,  81,  90,  99, 108],\n",
       "       [ 10,  20,  30,  40,  50,  60,  70,  80,  90, 100, 110, 120],\n",
       "       [ 11,  22,  33,  44,  55,  66,  77,  88,  99, 110, 121, 132],\n",
       "       [ 12,  24,  36,  48,  60,  72,  84,  96, 108, 120, 132, 144]])"
      ]
     },
     "execution_count": 7,
     "metadata": {},
     "output_type": "execute_result"
    }
   ],
   "source": [
    "from numpy import array \n",
    "array([[  1,   2,   3,   4,   5,   6,   7,   8,   9,  10,  11,  12],\n",
    "   [  2,   4,   6,   8,  10,  12,  14,  16,  18,  20,  22,  24],\n",
    "   [  3,   6,   9,  12,  15,  18,  21,  24,  27,  30,  33,  36],\n",
    "   [  4,   8,  12,  16,  20,  24,  28,  32,  36,  40,  44,  48],\n",
    "   [  5,  10,  15,  20,  25,  30,  35,  40,  45,  50,  55,  60],\n",
    "   [  6,  12,  18,  24,  30,  36,  42,  48,  54,  60,  66,  72],\n",
    "   [  7,  14,  21,  28,  35,  42,  49,  56,  63,  70,  77,  84],\n",
    "   [  8,  16,  24,  32,  40,  48,  56,  64,  72,  80,  88,  96],\n",
    "   [  9,  18,  27,  36,  45,  54,  63,  72,  81,  90,  99, 108],\n",
    "   [ 10,  20,  30,  40,  50,  60,  70,  80,  90, 100, 110, 120],\n",
    "   [ 11,  22,  33,  44,  55,  66,  77,  88,  99, 110, 121, 132],\n",
    "   [ 12,  24,  36,  48,  60,  72,  84,  96, 108, 120, 132, 144]])"
   ]
  },
  {
   "cell_type": "code",
   "execution_count": 3,
   "metadata": {},
   "outputs": [
    {
     "name": "stdout",
     "output_type": "stream",
     "text": [
      "[[1, 2, 3, 4, 5, 6, 7, 8, 9, 10, 11, 12], [2, 4, 6, 8, 10, 12, 14, 16, 18, 20, 22, 24], [3, 6, 9, 12, 15, 18, 21, 24, 27, 30, 33, 36], [4, 8, 12, 16, 20, 24, 28, 32, 36, 40, 44, 48], [5, 10, 15, 20, 25, 30, 35, 40, 45, 50, 55, 60], [6, 12, 18, 24, 30, 36, 42, 48, 54, 60, 66, 72], [7, 14, 21, 28, 35, 42, 49, 56, 63, 70, 77, 84], [8, 16, 24, 32, 40, 48, 56, 64, 72, 80, 88, 96], [9, 18, 27, 36, 45, 54, 63, 72, 81, 90, 99, 108], [10, 20, 30, 40, 50, 60, 70, 80, 90, 100, 110, 120], [11, 22, 33, 44, 55, 66, 77, 88, 99, 110, 121, 132], [12, 24, 36, 48, 60, 72, 84, 96, 108, 120, 132, 144]]\n"
     ]
    }
   ],
   "source": [
    "table = []\n",
    "for y in range(1, 13):\n",
    "    # Create the inner lists with a temporary variable.\n",
    "    # You must do this every time before the inner loop is entered,\n",
    "    # otherwise\n",
    "    row = []\n",
    "    # Fill the inner list.\n",
    "    for x in range(1, 13):\n",
    "        row.append(x*y)\n",
    "    # Append the inner list to the outer list.\n",
    "    table.append(row)\n",
    "print(table)\n",
    "    # A much more convenient way would be:\n",
    "#table = [[x*y for x in range(1, 13)] for y in range(1, 13)]\n"
   ]
  },
  {
   "cell_type": "code",
   "execution_count": 20,
   "metadata": {},
   "outputs": [
    {
     "data": {
      "text/plain": [
       "array([[  1.,   2.,   3.,   4.,   5.,   6.,   7.,   8.,   9.,  10.,  11.,\n",
       "         12.],\n",
       "       [  2.,   4.,   6.,   8.,  10.,  12.,  14.,  16.,  18.,  20.,  22.,\n",
       "         24.],\n",
       "       [  3.,   6.,   9.,  12.,  15.,  18.,  21.,  24.,  27.,  30.,  33.,\n",
       "         36.],\n",
       "       [  4.,   8.,  12.,  16.,  20.,  24.,  28.,  32.,  36.,  40.,  44.,\n",
       "         48.],\n",
       "       [  5.,  10.,  15.,  20.,  25.,  30.,  35.,  40.,  45.,  50.,  55.,\n",
       "         60.],\n",
       "       [  6.,  12.,  18.,  24.,  30.,  36.,  42.,  48.,  54.,  60.,  66.,\n",
       "         72.],\n",
       "       [  7.,  14.,  21.,  28.,  35.,  42.,  49.,  56.,  63.,  70.,  77.,\n",
       "         84.],\n",
       "       [  8.,  16.,  24.,  32.,  40.,  48.,  56.,  64.,  72.,  80.,  88.,\n",
       "         96.],\n",
       "       [  9.,  18.,  27.,  36.,  45.,  54.,  63.,  72.,  81.,  90.,  99.,\n",
       "        108.],\n",
       "       [ 10.,  20.,  30.,  40.,  50.,  60.,  70.,  80.,  90., 100., 110.,\n",
       "        120.],\n",
       "       [ 11.,  22.,  33.,  44.,  55.,  66.,  77.,  88.,  99., 110., 121.,\n",
       "        132.],\n",
       "       [ 12.,  24.,  36.,  48.,  60.,  72.,  84.,  96., 108., 120., 132.,\n",
       "        144.]])"
      ]
     },
     "execution_count": 20,
     "metadata": {},
     "output_type": "execute_result"
    }
   ],
   "source": [
    "np.fromfunction(lambda i, j: (i+1)*(j+1), (12,12))\n",
    "#np.nonzero(x)"
   ]
  },
  {
   "cell_type": "code",
   "execution_count": 35,
   "metadata": {},
   "outputs": [
    {
     "data": {
      "text/plain": [
       "array([[  1,   2,   3,   4,   5,   6,   7,   8,   9,  10,  11,  12],\n",
       "       [  2,   4,   6,   8,  10,  12,  14,  16,  18,  20,  22,  24],\n",
       "       [  3,   6,   9,  12,  15,  18,  21,  24,  27,  30,  33,  36],\n",
       "       [  4,   8,  12,  16,  20,  24,  28,  32,  36,  40,  44,  48],\n",
       "       [  5,  10,  15,  20,  25,  30,  35,  40,  45,  50,  55,  60],\n",
       "       [  6,  12,  18,  24,  30,  36,  42,  48,  54,  60,  66,  72],\n",
       "       [  7,  14,  21,  28,  35,  42,  49,  56,  63,  70,  77,  84],\n",
       "       [  8,  16,  24,  32,  40,  48,  56,  64,  72,  80,  88,  96],\n",
       "       [  9,  18,  27,  36,  45,  54,  63,  72,  81,  90,  99, 108],\n",
       "       [ 10,  20,  30,  40,  50,  60,  70,  80,  90, 100, 110, 120],\n",
       "       [ 11,  22,  33,  44,  55,  66,  77,  88,  99, 110, 121, 132],\n",
       "       [ 12,  24,  36,  48,  60,  72,  84,  96, 108, 120, 132, 144]])"
      ]
     },
     "execution_count": 35,
     "metadata": {},
     "output_type": "execute_result"
    }
   ],
   "source": [
    "table=[]\n",
    "a = np.array([1,2,3,4,5,6,7,8,9,10,11,12])\n",
    "b = np.array([[1],[2],[3],[4],[5],[6],[7],[8],[9],[10],[11],[12]])\n",
    "a *  b"
   ]
  },
  {
   "cell_type": "markdown",
   "metadata": {
    "collapsed": true
   },
   "source": [
    "## 6.5 \n",
    "Answer the following questions with respect to the\n",
    "https://data.cdc.gov/NCHS/NCHS-Leading-Causes-of-Death-United-States/bi63-dtpu\n",
    "    \n",
    "    \n",
    "How many patients were censored?\n",
    "What is the correlation coefficient between state and Suicide for deaths above 100 ?\n",
    "What is the average deaths for each state and type of cause ?\n",
    "What is the year that was the most deadly for each cause name ?"
   ]
  },
  {
   "cell_type": "code",
   "execution_count": 1,
   "metadata": {},
   "outputs": [
    {
     "data": {
      "text/html": [
       "<div>\n",
       "<style scoped>\n",
       "    .dataframe tbody tr th:only-of-type {\n",
       "        vertical-align: middle;\n",
       "    }\n",
       "\n",
       "    .dataframe tbody tr th {\n",
       "        vertical-align: top;\n",
       "    }\n",
       "\n",
       "    .dataframe thead th {\n",
       "        text-align: right;\n",
       "    }\n",
       "</style>\n",
       "<table border=\"1\" class=\"dataframe\">\n",
       "  <thead>\n",
       "    <tr style=\"text-align: right;\">\n",
       "      <th></th>\n",
       "      <th>Year</th>\n",
       "      <th>113 Cause Name</th>\n",
       "      <th>Cause Name</th>\n",
       "      <th>State</th>\n",
       "      <th>Deaths</th>\n",
       "      <th>Age-adjusted Death Rate</th>\n",
       "    </tr>\n",
       "  </thead>\n",
       "  <tbody>\n",
       "    <tr>\n",
       "      <th>0</th>\n",
       "      <td>2016</td>\n",
       "      <td>Accidents (unintentional injuries) (V01-X59,Y8...</td>\n",
       "      <td>Unintentional injuries</td>\n",
       "      <td>Alabama</td>\n",
       "      <td>2755</td>\n",
       "      <td>55.5</td>\n",
       "    </tr>\n",
       "    <tr>\n",
       "      <th>1</th>\n",
       "      <td>2016</td>\n",
       "      <td>Accidents (unintentional injuries) (V01-X59,Y8...</td>\n",
       "      <td>Unintentional injuries</td>\n",
       "      <td>Alaska</td>\n",
       "      <td>439</td>\n",
       "      <td>63.1</td>\n",
       "    </tr>\n",
       "    <tr>\n",
       "      <th>2</th>\n",
       "      <td>2016</td>\n",
       "      <td>Accidents (unintentional injuries) (V01-X59,Y8...</td>\n",
       "      <td>Unintentional injuries</td>\n",
       "      <td>Arizona</td>\n",
       "      <td>4010</td>\n",
       "      <td>54.2</td>\n",
       "    </tr>\n",
       "    <tr>\n",
       "      <th>3</th>\n",
       "      <td>2016</td>\n",
       "      <td>Accidents (unintentional injuries) (V01-X59,Y8...</td>\n",
       "      <td>Unintentional injuries</td>\n",
       "      <td>Arkansas</td>\n",
       "      <td>1604</td>\n",
       "      <td>51.8</td>\n",
       "    </tr>\n",
       "    <tr>\n",
       "      <th>4</th>\n",
       "      <td>2016</td>\n",
       "      <td>Accidents (unintentional injuries) (V01-X59,Y8...</td>\n",
       "      <td>Unintentional injuries</td>\n",
       "      <td>California</td>\n",
       "      <td>13213</td>\n",
       "      <td>32.0</td>\n",
       "    </tr>\n",
       "  </tbody>\n",
       "</table>\n",
       "</div>"
      ],
      "text/plain": [
       "   Year                                     113 Cause Name  \\\n",
       "0  2016  Accidents (unintentional injuries) (V01-X59,Y8...   \n",
       "1  2016  Accidents (unintentional injuries) (V01-X59,Y8...   \n",
       "2  2016  Accidents (unintentional injuries) (V01-X59,Y8...   \n",
       "3  2016  Accidents (unintentional injuries) (V01-X59,Y8...   \n",
       "4  2016  Accidents (unintentional injuries) (V01-X59,Y8...   \n",
       "\n",
       "               Cause Name       State  Deaths  Age-adjusted Death Rate  \n",
       "0  Unintentional injuries     Alabama    2755                     55.5  \n",
       "1  Unintentional injuries      Alaska     439                     63.1  \n",
       "2  Unintentional injuries     Arizona    4010                     54.2  \n",
       "3  Unintentional injuries    Arkansas    1604                     51.8  \n",
       "4  Unintentional injuries  California   13213                     32.0  "
      ]
     },
     "execution_count": 1,
     "metadata": {},
     "output_type": "execute_result"
    }
   ],
   "source": [
    "import pandas as pd\n",
    "dfh = pd.read_csv(\".\\data\\NCHS_-_Leading_Causes_of_Death__United_States.csv\")\n",
    "dfh.head()"
   ]
  },
  {
   "cell_type": "code",
   "execution_count": 154,
   "metadata": {},
   "outputs": [
    {
     "data": {
      "text/plain": [
       "(10296, 6)"
      ]
     },
     "execution_count": 154,
     "metadata": {},
     "output_type": "execute_result"
    }
   ],
   "source": [
    "dfh.shape"
   ]
  },
  {
   "cell_type": "code",
   "execution_count": 115,
   "metadata": {},
   "outputs": [
    {
     "data": {
      "text/plain": [
       "Year  Cause Name             \n",
       "1999  All causes                 4782798\n",
       "      Alzheimer's disease          89072\n",
       "      CLRD                        248362\n",
       "      Cancer                     1099676\n",
       "      Diabetes                    136798\n",
       "      Heart disease              1450384\n",
       "      Influenza and pneumonia     127460\n",
       "      Kidney disease               71050\n",
       "      Stroke                      334732\n",
       "      Suicide                      58398\n",
       "      Unintentional injuries      195720\n",
       "2000  All causes                 4806702\n",
       "      Alzheimer's disease          99116\n",
       "      CLRD                        244018\n",
       "      Cancer                     1106182\n",
       "      Diabetes                    138602\n",
       "      Heart disease              1421520\n",
       "      Influenza and pneumonia     130626\n",
       "      Kidney disease               74502\n",
       "      Stroke                      335322\n",
       "      Suicide                      58700\n",
       "      Unintentional injuries      195800\n",
       "2001  All causes                 4832850\n",
       "      Alzheimer's disease         107704\n",
       "      CLRD                        246026\n",
       "      Cancer                     1107536\n",
       "      Diabetes                    142744\n",
       "      Heart disease              1400284\n",
       "      Influenza and pneumonia     124068\n",
       "      Kidney disease               78960\n",
       "                                  ...   \n",
       "2014  Cancer                     1183400\n",
       "      Diabetes                    152976\n",
       "      Heart disease              1228696\n",
       "      Influenza and pneumonia     110454\n",
       "      Kidney disease               96292\n",
       "      Stroke                      266206\n",
       "      Suicide                      85652\n",
       "      Unintentional injuries      271856\n",
       "2015  All causes                 5425260\n",
       "      Alzheimer's disease         221122\n",
       "      CLRD                        310082\n",
       "      Cancer                     1191860\n",
       "      Diabetes                    159070\n",
       "      Heart disease              1267684\n",
       "      Influenza and pneumonia     114124\n",
       "      Kidney disease               99918\n",
       "      Stroke                      280646\n",
       "      Suicide                      88386\n",
       "      Unintentional injuries      293142\n",
       "2016  All causes                 5063723\n",
       "      Alzheimer's disease         232206\n",
       "      CLRD                        309192\n",
       "      Cancer                     1196076\n",
       "      Diabetes                    160116\n",
       "      Heart disease              1270520\n",
       "      Influenza and pneumonia     103074\n",
       "      Kidney disease              100092\n",
       "      Stroke                      284284\n",
       "      Suicide                      89930\n",
       "      Unintentional injuries      322748\n",
       "Name: Deaths, Length: 198, dtype: int64"
      ]
     },
     "execution_count": 115,
     "metadata": {},
     "output_type": "execute_result"
    }
   ],
   "source": [
    "dfh.groupby(['Year','Cause Name'])['Deaths'].sum()"
   ]
  },
  {
   "cell_type": "code",
   "execution_count": 195,
   "metadata": {},
   "outputs": [
    {
     "data": {
      "text/plain": [
       "157803463"
      ]
     },
     "execution_count": 195,
     "metadata": {},
     "output_type": "execute_result"
    }
   ],
   "source": [
    "#Question 1\n",
    "dfh_new[\"Deaths\"].sum() "
   ]
  },
  {
   "cell_type": "code",
   "execution_count": 192,
   "metadata": {},
   "outputs": [],
   "source": [
    "dfh_filtered=dfh['Cause Name']=='Suicide'\n",
    "su=dfh[dfh_filtered]"
   ]
  },
  {
   "cell_type": "code",
   "execution_count": 193,
   "metadata": {},
   "outputs": [],
   "source": [
    "dfh_new=dfh.drop(['113 Cause Name','Age-adjusted Death Rate'], axis=1)"
   ]
  },
  {
   "cell_type": "code",
   "execution_count": 227,
   "metadata": {},
   "outputs": [
    {
     "data": {
      "text/plain": [
       "0.00287396300585283"
      ]
     },
     "execution_count": 227,
     "metadata": {},
     "output_type": "execute_result"
    }
   ],
   "source": [
    "#Q2 I am finding corelation between year and deaths  \n",
    "corelation=dfh_new['Deaths'].corr(dfh_new['Year'])\n",
    "corelation"
   ]
  },
  {
   "cell_type": "code",
   "execution_count": 228,
   "metadata": {},
   "outputs": [
    {
     "data": {
      "text/plain": [
       "State          Cause Name             \n",
       "Alabama        All causes                 47823.833333\n",
       "               Alzheimer's disease         1479.833333\n",
       "               CLRD                        2654.333333\n",
       "               Cancer                     10043.333333\n",
       "               Diabetes                    1341.277778\n",
       "               Heart disease              12635.166667\n",
       "               Influenza and pneumonia     1028.666667\n",
       "               Kidney disease              1049.944444\n",
       "               Stroke                      2861.500000\n",
       "               Suicide                      624.500000\n",
       "               Unintentional injuries      2398.222222\n",
       "Alaska         All causes                  3521.000000\n",
       "               Alzheimer's disease           66.888889\n",
       "               CLRD                         171.833333\n",
       "               Cancer                       835.111111\n",
       "               Diabetes                      99.444444\n",
       "               Heart disease                672.611111\n",
       "               Influenza and pneumonia       51.833333\n",
       "               Kidney disease                40.500000\n",
       "               Stroke                       172.611111\n",
       "               Suicide                      148.888889\n",
       "               Unintentional injuries       350.444444\n",
       "Arizona        All causes                 46561.500000\n",
       "               Alzheimer's disease         1988.833333\n",
       "               CLRD                        2929.444444\n",
       "               Cancer                     10275.444444\n",
       "               Diabetes                    1401.944444\n",
       "               Heart disease              10725.722222\n",
       "               Influenza and pneumonia     1011.555556\n",
       "               Kidney disease               520.055556\n",
       "                                              ...     \n",
       "West Virginia  Cancer                      4706.333333\n",
       "               Diabetes                     789.222222\n",
       "               Heart disease               5421.944444\n",
       "               Influenza and pneumonia      462.833333\n",
       "               Kidney disease               456.166667\n",
       "               Stroke                      1146.666667\n",
       "               Suicide                      290.000000\n",
       "               Unintentional injuries      1172.500000\n",
       "Wisconsin      All causes                 47646.222222\n",
       "               Alzheimer's disease         1607.055556\n",
       "               CLRD                        2494.500000\n",
       "               Cancer                     11070.388889\n",
       "               Diabetes                    1272.333333\n",
       "               Heart disease              11862.611111\n",
       "               Influenza and pneumonia     1103.777778\n",
       "               Kidney disease               936.611111\n",
       "               Stroke                      2910.333333\n",
       "               Suicide                      716.111111\n",
       "               Unintentional injuries      2583.166667\n",
       "Wyoming        All causes                  4303.666667\n",
       "               Alzheimer's disease          126.666667\n",
       "               CLRD                         320.611111\n",
       "               Cancer                       922.111111\n",
       "               Diabetes                     119.222222\n",
       "               Heart disease                981.555556\n",
       "               Influenza and pneumonia      117.222222\n",
       "               Kidney disease                61.666667\n",
       "               Stroke                       225.500000\n",
       "               Suicide                      116.222222\n",
       "               Unintentional injuries       309.166667\n",
       "Name: Deaths, Length: 572, dtype: float64"
      ]
     },
     "execution_count": 228,
     "metadata": {},
     "output_type": "execute_result"
    }
   ],
   "source": [
    "# Question 2 What is the average deaths for each state and type of cause ?\n",
    "dfh.groupby(['State','Cause Name'])['Deaths'].mean()"
   ]
  },
  {
   "cell_type": "code",
   "execution_count": 202,
   "metadata": {},
   "outputs": [],
   "source": [
    "\n",
    "cause_by_state=dfh_new.pivot_table('Deaths',index=['Cause Name'], \n",
    "                                         columns='Year', aggfunc='sum')\n",
    "#cause_by_state"
   ]
  },
  {
   "cell_type": "code",
   "execution_count": 203,
   "metadata": {},
   "outputs": [
    {
     "data": {
      "text/html": [
       "<div>\n",
       "<style scoped>\n",
       "    .dataframe tbody tr th:only-of-type {\n",
       "        vertical-align: middle;\n",
       "    }\n",
       "\n",
       "    .dataframe tbody tr th {\n",
       "        vertical-align: top;\n",
       "    }\n",
       "\n",
       "    .dataframe thead th {\n",
       "        text-align: right;\n",
       "    }\n",
       "</style>\n",
       "<table border=\"1\" class=\"dataframe\">\n",
       "  <thead>\n",
       "    <tr style=\"text-align: right;\">\n",
       "      <th></th>\n",
       "      <th>cause_of_max_death</th>\n",
       "      <th>deaths_from_cause</th>\n",
       "      <th>year</th>\n",
       "    </tr>\n",
       "  </thead>\n",
       "  <tbody>\n",
       "    <tr>\n",
       "      <th>0</th>\n",
       "      <td>All causes</td>\n",
       "      <td>5425260</td>\n",
       "      <td>2015</td>\n",
       "    </tr>\n",
       "    <tr>\n",
       "      <th>1</th>\n",
       "      <td>Alzheimer's disease</td>\n",
       "      <td>232206</td>\n",
       "      <td>2016</td>\n",
       "    </tr>\n",
       "    <tr>\n",
       "      <th>2</th>\n",
       "      <td>CLRD</td>\n",
       "      <td>310082</td>\n",
       "      <td>2015</td>\n",
       "    </tr>\n",
       "    <tr>\n",
       "      <th>3</th>\n",
       "      <td>Cancer</td>\n",
       "      <td>1196076</td>\n",
       "      <td>2016</td>\n",
       "    </tr>\n",
       "    <tr>\n",
       "      <th>4</th>\n",
       "      <td>Diabetes</td>\n",
       "      <td>160116</td>\n",
       "      <td>2016</td>\n",
       "    </tr>\n",
       "    <tr>\n",
       "      <th>5</th>\n",
       "      <td>Heart disease</td>\n",
       "      <td>1450384</td>\n",
       "      <td>1999</td>\n",
       "    </tr>\n",
       "    <tr>\n",
       "      <th>6</th>\n",
       "      <td>Influenza and pneumonia</td>\n",
       "      <td>131362</td>\n",
       "      <td>2002</td>\n",
       "    </tr>\n",
       "    <tr>\n",
       "      <th>7</th>\n",
       "      <td>Kidney disease</td>\n",
       "      <td>100952</td>\n",
       "      <td>2010</td>\n",
       "    </tr>\n",
       "    <tr>\n",
       "      <th>8</th>\n",
       "      <td>Stroke</td>\n",
       "      <td>335322</td>\n",
       "      <td>2000</td>\n",
       "    </tr>\n",
       "    <tr>\n",
       "      <th>9</th>\n",
       "      <td>Suicide</td>\n",
       "      <td>89930</td>\n",
       "      <td>2016</td>\n",
       "    </tr>\n",
       "    <tr>\n",
       "      <th>10</th>\n",
       "      <td>Unintentional injuries</td>\n",
       "      <td>322748</td>\n",
       "      <td>2016</td>\n",
       "    </tr>\n",
       "  </tbody>\n",
       "</table>\n",
       "</div>"
      ],
      "text/plain": [
       "         cause_of_max_death  deaths_from_cause  year\n",
       "0                All causes            5425260  2015\n",
       "1       Alzheimer's disease             232206  2016\n",
       "2                      CLRD             310082  2015\n",
       "3                    Cancer            1196076  2016\n",
       "4                  Diabetes             160116  2016\n",
       "5             Heart disease            1450384  1999\n",
       "6   Influenza and pneumonia             131362  2002\n",
       "7            Kidney disease             100952  2010\n",
       "8                    Stroke             335322  2000\n",
       "9                   Suicide              89930  2016\n",
       "10   Unintentional injuries             322748  2016"
      ]
     },
     "execution_count": 203,
     "metadata": {},
     "output_type": "execute_result"
    }
   ],
   "source": [
    "zz = cause_by_state.index\n",
    "col=cause_by_state.columns\n",
    "#print(col)\n",
    "#print(death_cause['State'].unique().size)\n",
    "#max_by_state = np.array((death_cause['State'].unique().size * death_cause['Year'].unique().size, 3))\n",
    "years = []\n",
    "cause = []\n",
    "deaths = []\n",
    "state =[]\n",
    "#print(max_by_state.shape)\n",
    "#print(zz)\n",
    "for cn in zz:\n",
    "    \n",
    "    try:\n",
    "        dths = cause_by_state.loc[cn].max()\n",
    "        \n",
    "        yr=cause_by_state.loc[cn].idxmax()\n",
    "            \n",
    "        years.append(yr)\n",
    "        cause.append(cn)\n",
    "        deaths.append(dths)\n",
    "           \n",
    "    except:\n",
    "            pass\n",
    "max_cause_deaths = pd.DataFrame({'year':years,\n",
    "                                'cause_of_max_death':cause, 'deaths_from_cause': deaths})\n",
    "\n",
    "max_cause_deaths"
   ]
  },
  {
   "cell_type": "markdown",
   "metadata": {},
   "source": [
    "# We can do more analysis on this data by usig some matplotlib\n",
    " - Here first I am drawing a pivot table for the Cause Name and Year and sum of all deaths and for convenient I am dividing it with a number \n",
    " and then I am plotting the graph based on that pivot table"
   ]
  },
  {
   "cell_type": "code",
   "execution_count": 206,
   "metadata": {},
   "outputs": [
    {
     "data": {
      "text/html": [
       "<div>\n",
       "<style scoped>\n",
       "    .dataframe tbody tr th:only-of-type {\n",
       "        vertical-align: middle;\n",
       "    }\n",
       "\n",
       "    .dataframe tbody tr th {\n",
       "        vertical-align: top;\n",
       "    }\n",
       "\n",
       "    .dataframe thead th {\n",
       "        text-align: right;\n",
       "    }\n",
       "</style>\n",
       "<table border=\"1\" class=\"dataframe\">\n",
       "  <thead>\n",
       "    <tr style=\"text-align: right;\">\n",
       "      <th>Cause Name</th>\n",
       "      <th>All causes</th>\n",
       "      <th>Alzheimer's disease</th>\n",
       "      <th>CLRD</th>\n",
       "      <th>Cancer</th>\n",
       "      <th>Diabetes</th>\n",
       "      <th>Heart disease</th>\n",
       "      <th>Influenza and pneumonia</th>\n",
       "      <th>Kidney disease</th>\n",
       "      <th>Stroke</th>\n",
       "      <th>Suicide</th>\n",
       "      <th>Unintentional injuries</th>\n",
       "    </tr>\n",
       "    <tr>\n",
       "      <th>Year</th>\n",
       "      <th></th>\n",
       "      <th></th>\n",
       "      <th></th>\n",
       "      <th></th>\n",
       "      <th></th>\n",
       "      <th></th>\n",
       "      <th></th>\n",
       "      <th></th>\n",
       "      <th></th>\n",
       "      <th></th>\n",
       "      <th></th>\n",
       "    </tr>\n",
       "  </thead>\n",
       "  <tbody>\n",
       "    <tr>\n",
       "      <th>1999</th>\n",
       "      <td>4.782798</td>\n",
       "      <td>0.089072</td>\n",
       "      <td>0.248362</td>\n",
       "      <td>1.099676</td>\n",
       "      <td>0.136798</td>\n",
       "      <td>1.450384</td>\n",
       "      <td>0.127460</td>\n",
       "      <td>0.071050</td>\n",
       "      <td>0.334732</td>\n",
       "      <td>0.058398</td>\n",
       "      <td>0.195720</td>\n",
       "    </tr>\n",
       "    <tr>\n",
       "      <th>2000</th>\n",
       "      <td>4.806702</td>\n",
       "      <td>0.099116</td>\n",
       "      <td>0.244018</td>\n",
       "      <td>1.106182</td>\n",
       "      <td>0.138602</td>\n",
       "      <td>1.421520</td>\n",
       "      <td>0.130626</td>\n",
       "      <td>0.074502</td>\n",
       "      <td>0.335322</td>\n",
       "      <td>0.058700</td>\n",
       "      <td>0.195800</td>\n",
       "    </tr>\n",
       "    <tr>\n",
       "      <th>2001</th>\n",
       "      <td>4.832850</td>\n",
       "      <td>0.107704</td>\n",
       "      <td>0.246026</td>\n",
       "      <td>1.107536</td>\n",
       "      <td>0.142744</td>\n",
       "      <td>1.400284</td>\n",
       "      <td>0.124068</td>\n",
       "      <td>0.078960</td>\n",
       "      <td>0.327076</td>\n",
       "      <td>0.061244</td>\n",
       "      <td>0.203074</td>\n",
       "    </tr>\n",
       "    <tr>\n",
       "      <th>2002</th>\n",
       "      <td>4.886774</td>\n",
       "      <td>0.117732</td>\n",
       "      <td>0.249632</td>\n",
       "      <td>1.114542</td>\n",
       "      <td>0.146498</td>\n",
       "      <td>1.393894</td>\n",
       "      <td>0.131362</td>\n",
       "      <td>0.081948</td>\n",
       "      <td>0.325344</td>\n",
       "      <td>0.063310</td>\n",
       "      <td>0.213484</td>\n",
       "    </tr>\n",
       "    <tr>\n",
       "      <th>2003</th>\n",
       "      <td>4.896576</td>\n",
       "      <td>0.126914</td>\n",
       "      <td>0.252764</td>\n",
       "      <td>1.113804</td>\n",
       "      <td>0.148438</td>\n",
       "      <td>1.370178</td>\n",
       "      <td>0.130326</td>\n",
       "      <td>0.084906</td>\n",
       "      <td>0.315378</td>\n",
       "      <td>0.062968</td>\n",
       "      <td>0.218554</td>\n",
       "    </tr>\n",
       "    <tr>\n",
       "      <th>2004</th>\n",
       "      <td>4.795230</td>\n",
       "      <td>0.131930</td>\n",
       "      <td>0.243974</td>\n",
       "      <td>1.107776</td>\n",
       "      <td>0.146276</td>\n",
       "      <td>1.304972</td>\n",
       "      <td>0.119328</td>\n",
       "      <td>0.084960</td>\n",
       "      <td>0.300148</td>\n",
       "      <td>0.064878</td>\n",
       "      <td>0.224024</td>\n",
       "    </tr>\n",
       "    <tr>\n",
       "      <th>2005</th>\n",
       "      <td>4.896034</td>\n",
       "      <td>0.143198</td>\n",
       "      <td>0.261866</td>\n",
       "      <td>1.118624</td>\n",
       "      <td>0.150238</td>\n",
       "      <td>1.304182</td>\n",
       "      <td>0.126002</td>\n",
       "      <td>0.087802</td>\n",
       "      <td>0.287158</td>\n",
       "      <td>0.065274</td>\n",
       "      <td>0.235618</td>\n",
       "    </tr>\n",
       "    <tr>\n",
       "      <th>2006</th>\n",
       "      <td>4.852528</td>\n",
       "      <td>0.144864</td>\n",
       "      <td>0.249166</td>\n",
       "      <td>1.119776</td>\n",
       "      <td>0.144898</td>\n",
       "      <td>1.263272</td>\n",
       "      <td>0.112652</td>\n",
       "      <td>0.090688</td>\n",
       "      <td>0.274238</td>\n",
       "      <td>0.066600</td>\n",
       "      <td>0.243198</td>\n",
       "    </tr>\n",
       "    <tr>\n",
       "      <th>2007</th>\n",
       "      <td>4.847424</td>\n",
       "      <td>0.149264</td>\n",
       "      <td>0.255848</td>\n",
       "      <td>1.125750</td>\n",
       "      <td>0.142764</td>\n",
       "      <td>1.232134</td>\n",
       "      <td>0.105434</td>\n",
       "      <td>0.092896</td>\n",
       "      <td>0.271904</td>\n",
       "      <td>0.069196</td>\n",
       "      <td>0.247412</td>\n",
       "    </tr>\n",
       "    <tr>\n",
       "      <th>2008</th>\n",
       "      <td>4.943968</td>\n",
       "      <td>0.164870</td>\n",
       "      <td>0.282180</td>\n",
       "      <td>1.130938</td>\n",
       "      <td>0.141106</td>\n",
       "      <td>1.233656</td>\n",
       "      <td>0.112568</td>\n",
       "      <td>0.096474</td>\n",
       "      <td>0.268296</td>\n",
       "      <td>0.072070</td>\n",
       "      <td>0.243804</td>\n",
       "    </tr>\n",
       "    <tr>\n",
       "      <th>2009</th>\n",
       "      <td>4.874326</td>\n",
       "      <td>0.158006</td>\n",
       "      <td>0.274706</td>\n",
       "      <td>1.135256</td>\n",
       "      <td>0.137410</td>\n",
       "      <td>1.198826</td>\n",
       "      <td>0.107384</td>\n",
       "      <td>0.097870</td>\n",
       "      <td>0.257684</td>\n",
       "      <td>0.073818</td>\n",
       "      <td>0.236042</td>\n",
       "    </tr>\n",
       "    <tr>\n",
       "      <th>2010</th>\n",
       "      <td>4.936870</td>\n",
       "      <td>0.166988</td>\n",
       "      <td>0.276160</td>\n",
       "      <td>1.149486</td>\n",
       "      <td>0.138142</td>\n",
       "      <td>1.195378</td>\n",
       "      <td>0.100194</td>\n",
       "      <td>0.100952</td>\n",
       "      <td>0.258952</td>\n",
       "      <td>0.076728</td>\n",
       "      <td>0.241718</td>\n",
       "    </tr>\n",
       "    <tr>\n",
       "      <th>2011</th>\n",
       "      <td>5.030916</td>\n",
       "      <td>0.169948</td>\n",
       "      <td>0.285886</td>\n",
       "      <td>1.153382</td>\n",
       "      <td>0.147662</td>\n",
       "      <td>1.193154</td>\n",
       "      <td>0.107652</td>\n",
       "      <td>0.091182</td>\n",
       "      <td>0.257864</td>\n",
       "      <td>0.079036</td>\n",
       "      <td>0.252876</td>\n",
       "    </tr>\n",
       "    <tr>\n",
       "      <th>2012</th>\n",
       "      <td>5.086558</td>\n",
       "      <td>0.167274</td>\n",
       "      <td>0.286978</td>\n",
       "      <td>1.165246</td>\n",
       "      <td>0.147864</td>\n",
       "      <td>1.199422</td>\n",
       "      <td>0.101272</td>\n",
       "      <td>0.091244</td>\n",
       "      <td>0.257092</td>\n",
       "      <td>0.081200</td>\n",
       "      <td>0.255584</td>\n",
       "    </tr>\n",
       "    <tr>\n",
       "      <th>2013</th>\n",
       "      <td>5.193986</td>\n",
       "      <td>0.169534</td>\n",
       "      <td>0.298410</td>\n",
       "      <td>1.169762</td>\n",
       "      <td>0.151156</td>\n",
       "      <td>1.222210</td>\n",
       "      <td>0.113958</td>\n",
       "      <td>0.094224</td>\n",
       "      <td>0.257956</td>\n",
       "      <td>0.082298</td>\n",
       "      <td>0.261114</td>\n",
       "    </tr>\n",
       "    <tr>\n",
       "      <th>2014</th>\n",
       "      <td>5.252836</td>\n",
       "      <td>0.187082</td>\n",
       "      <td>0.294202</td>\n",
       "      <td>1.183400</td>\n",
       "      <td>0.152976</td>\n",
       "      <td>1.228696</td>\n",
       "      <td>0.110454</td>\n",
       "      <td>0.096292</td>\n",
       "      <td>0.266206</td>\n",
       "      <td>0.085652</td>\n",
       "      <td>0.271856</td>\n",
       "    </tr>\n",
       "    <tr>\n",
       "      <th>2015</th>\n",
       "      <td>5.425260</td>\n",
       "      <td>0.221122</td>\n",
       "      <td>0.310082</td>\n",
       "      <td>1.191860</td>\n",
       "      <td>0.159070</td>\n",
       "      <td>1.267684</td>\n",
       "      <td>0.114124</td>\n",
       "      <td>0.099918</td>\n",
       "      <td>0.280646</td>\n",
       "      <td>0.088386</td>\n",
       "      <td>0.293142</td>\n",
       "    </tr>\n",
       "    <tr>\n",
       "      <th>2016</th>\n",
       "      <td>5.063723</td>\n",
       "      <td>0.232206</td>\n",
       "      <td>0.309192</td>\n",
       "      <td>1.196076</td>\n",
       "      <td>0.160116</td>\n",
       "      <td>1.270520</td>\n",
       "      <td>0.103074</td>\n",
       "      <td>0.100092</td>\n",
       "      <td>0.284284</td>\n",
       "      <td>0.089930</td>\n",
       "      <td>0.322748</td>\n",
       "    </tr>\n",
       "  </tbody>\n",
       "</table>\n",
       "</div>"
      ],
      "text/plain": [
       "Cause Name  All causes  Alzheimer's disease      CLRD    Cancer  Diabetes  \\\n",
       "Year                                                                        \n",
       "1999          4.782798             0.089072  0.248362  1.099676  0.136798   \n",
       "2000          4.806702             0.099116  0.244018  1.106182  0.138602   \n",
       "2001          4.832850             0.107704  0.246026  1.107536  0.142744   \n",
       "2002          4.886774             0.117732  0.249632  1.114542  0.146498   \n",
       "2003          4.896576             0.126914  0.252764  1.113804  0.148438   \n",
       "2004          4.795230             0.131930  0.243974  1.107776  0.146276   \n",
       "2005          4.896034             0.143198  0.261866  1.118624  0.150238   \n",
       "2006          4.852528             0.144864  0.249166  1.119776  0.144898   \n",
       "2007          4.847424             0.149264  0.255848  1.125750  0.142764   \n",
       "2008          4.943968             0.164870  0.282180  1.130938  0.141106   \n",
       "2009          4.874326             0.158006  0.274706  1.135256  0.137410   \n",
       "2010          4.936870             0.166988  0.276160  1.149486  0.138142   \n",
       "2011          5.030916             0.169948  0.285886  1.153382  0.147662   \n",
       "2012          5.086558             0.167274  0.286978  1.165246  0.147864   \n",
       "2013          5.193986             0.169534  0.298410  1.169762  0.151156   \n",
       "2014          5.252836             0.187082  0.294202  1.183400  0.152976   \n",
       "2015          5.425260             0.221122  0.310082  1.191860  0.159070   \n",
       "2016          5.063723             0.232206  0.309192  1.196076  0.160116   \n",
       "\n",
       "Cause Name  Heart disease  Influenza and pneumonia  Kidney disease    Stroke  \\\n",
       "Year                                                                           \n",
       "1999             1.450384                 0.127460        0.071050  0.334732   \n",
       "2000             1.421520                 0.130626        0.074502  0.335322   \n",
       "2001             1.400284                 0.124068        0.078960  0.327076   \n",
       "2002             1.393894                 0.131362        0.081948  0.325344   \n",
       "2003             1.370178                 0.130326        0.084906  0.315378   \n",
       "2004             1.304972                 0.119328        0.084960  0.300148   \n",
       "2005             1.304182                 0.126002        0.087802  0.287158   \n",
       "2006             1.263272                 0.112652        0.090688  0.274238   \n",
       "2007             1.232134                 0.105434        0.092896  0.271904   \n",
       "2008             1.233656                 0.112568        0.096474  0.268296   \n",
       "2009             1.198826                 0.107384        0.097870  0.257684   \n",
       "2010             1.195378                 0.100194        0.100952  0.258952   \n",
       "2011             1.193154                 0.107652        0.091182  0.257864   \n",
       "2012             1.199422                 0.101272        0.091244  0.257092   \n",
       "2013             1.222210                 0.113958        0.094224  0.257956   \n",
       "2014             1.228696                 0.110454        0.096292  0.266206   \n",
       "2015             1.267684                 0.114124        0.099918  0.280646   \n",
       "2016             1.270520                 0.103074        0.100092  0.284284   \n",
       "\n",
       "Cause Name   Suicide  Unintentional injuries  \n",
       "Year                                          \n",
       "1999        0.058398                0.195720  \n",
       "2000        0.058700                0.195800  \n",
       "2001        0.061244                0.203074  \n",
       "2002        0.063310                0.213484  \n",
       "2003        0.062968                0.218554  \n",
       "2004        0.064878                0.224024  \n",
       "2005        0.065274                0.235618  \n",
       "2006        0.066600                0.243198  \n",
       "2007        0.069196                0.247412  \n",
       "2008        0.072070                0.243804  \n",
       "2009        0.073818                0.236042  \n",
       "2010        0.076728                0.241718  \n",
       "2011        0.079036                0.252876  \n",
       "2012        0.081200                0.255584  \n",
       "2013        0.082298                0.261114  \n",
       "2014        0.085652                0.271856  \n",
       "2015        0.088386                0.293142  \n",
       "2016        0.089930                0.322748  "
      ]
     },
     "execution_count": 206,
     "metadata": {},
     "output_type": "execute_result"
    }
   ],
   "source": [
    "#deaths_by_cause = death_cause.groupby(['Year','Cause_name'])['Deaths'].aggregate(['sum']).unstack() * 1/1000 #['min','max', np.mean, np.std])\n",
    "deaths_by_cause = dfh.pivot_table('Deaths',index='Year', columns='Cause Name', aggfunc='sum') / 1e6\n",
    "deaths_by_cause # = deaths_by_cause /1e6"
   ]
  },
  {
   "cell_type": "code",
   "execution_count": 208,
   "metadata": {},
   "outputs": [
    {
     "data": {
      "image/png": "[encoded data removed]",
      "text/plain": [
       "<Figure size 720x504 with 1 Axes>"
      ]
     },
     "metadata": {},
     "output_type": "display_data"
    }
   ],
   "source": [
    "%matplotlib inline\n",
    "\n",
    "import matplotlib.pyplot as plt\n",
    "import seaborn as sb\n",
    "sb.set()\n",
    "deaths_by_cause.plot(figsize=(10,7)).legend(loc='center left', bbox_to_anchor=(1, 0.5),\n",
    "                                            fancybox=True, shadow=True);\n",
    "plt.ylabel('Total Deaths in millions');\n",
    "# We can clearly see that Heart Diseases and Cancer are the leading \n",
    "# causes of death each year since 2009. "
   ]
  },
  {
   "cell_type": "markdown",
   "metadata": {},
   "source": [
    "# Here I am using filter for just cancer and heart disease to see the graph we can see it is gradually decreasing and again coming up"
   ]
  },
  {
   "cell_type": "code",
   "execution_count": 212,
   "metadata": {},
   "outputs": [
    {
     "data": {
      "image/png": "[encoded data removed]",
      "text/plain": [
       "<Figure size 432x288 with 1 Axes>"
      ]
     },
     "metadata": {},
     "output_type": "display_data"
    }
   ],
   "source": [
    "deaths_by_cause['Cancer'] / deaths_by_cause\n",
    "deaths_by_cause = dfh.pivot_table('Deaths',index='Year', columns='Cause Name',\n",
    "                                          aggfunc='sum', margins= True) / 1e6\n",
    "major_causes = 100 * deaths_by_cause[['Cancer','Heart disease']\n",
    "                                    ].sum(axis=1) /deaths_by_cause[:].sum(axis=1)\n",
    "major_causes.plot()\n",
    "plt.ylabel('% of Total Deaths due to Cancer & Heart Disease');\n",
    "# This shows the sum of leading causes of death decreasing steadily till 2013\n",
    "# and then rising sharply the next year\n",
    "# from the previous plot. The recent increases are mostly due to rising Heart Disease"
   ]
  },
  {
   "cell_type": "code",
   "execution_count": null,
   "metadata": {},
   "outputs": [],
   "source": []
  }
 ],
 "metadata": {
  "kernelspec": {
   "display_name": "Python [default]",
   "language": "python",
   "name": "python2"
  },
  "language_info": {
   "codemirror_mode": {
    "name": "ipython",
    "version": 2
   },
   "file_extension": ".py",
   "mimetype": "text/x-python",
   "name": "python",
   "nbconvert_exporter": "python",
   "pygments_lexer": "ipython2",
   "version": "2.7.15"
  }
 },
 "nbformat": 4,
 "nbformat_minor": 2
}
