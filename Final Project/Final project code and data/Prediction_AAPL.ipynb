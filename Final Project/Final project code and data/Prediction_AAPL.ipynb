{
 "cells": [
  {
   "cell_type": "markdown",
   "metadata": {},
   "source": [
    "# LSTM RNN MODEL DEMO WITH AAPL"
   ]
  },
  {
   "cell_type": "code",
   "execution_count": 1,
   "metadata": {},
   "outputs": [
    {
     "name": "stderr",
     "output_type": "stream",
     "text": [
      "Using TensorFlow backend.\n"
     ]
    }
   ],
   "source": [
    "from __future__ import division\n",
    "import numpy as np\n",
    "import pandas as pd\n",
    "import matplotlib.pyplot as plt\n",
    "import matplotlib.patches as mpatches\n",
    "from keras.layers.core import Dense, Activation, Dropout\n",
    "from keras.layers.recurrent import LSTM\n",
    "from keras.models import Sequential, load_model\n",
    "from sklearn import preprocessing\n",
    "from datetime import datetime, timedelta\n",
    "import time\n",
    "from collections import Counter\n",
    "import os\n"
   ]
  },
  {
   "cell_type": "code",
   "execution_count": 29,
   "metadata": {},
   "outputs": [],
   "source": [
    "##### HELPERS #####\n",
    "def earliest_date_after(query_date, date_list):\n",
    "    ''' find the earliest date after a query date from ordered list of dates '''\n",
    "    for i in range(len(date_list)):\n",
    "        if query_date < date_list[i].date():\n",
    "            return date_list[i].date()\n",
    "    print('\\nQUERY DATE ERROR WITH:{}'.format(query_date)) \n",
    "\n",
    "    raise Exception('No values after query date')\n",
    "\n",
    "def latest_date_before(query_date, date_list):\n",
    "    ''' find the latest date before a query date from ordered list of dates '''\n",
    "    for i in range(len(date_list)):\n",
    "        if query_date < date_list[i].date():\n",
    "            if i==0:\n",
    "                print ('\\nQUERY DATE ERROR WITH:{}'.format(query_date)) \n",
    "                raise Exception('No values before query date in list')\n",
    "            return date_list[i-1].date()\n",
    "        \n",
    "def inv_price_transform(normalized_data, scaler):\n",
    "    ''' inverse from normalized price to raw price '''\n",
    "    m = scaler.mean_[0]\n",
    "    s = scaler.scale_[0]\n",
    "    return s*np.array(normalized_data)+m"
   ]
  },
  {
   "cell_type": "markdown",
   "metadata": {},
   "source": [
    "# Load Data"
   ]
  },
  {
   "cell_type": "code",
   "execution_count": 39,
   "metadata": {},
   "outputs": [
    {
     "name": "stdout",
     "output_type": "stream",
     "text": [
      " rows done.0\n",
      " rows done.100\n",
      " rows done.200\n",
      " rows done.300\n",
      " rows done.400\n",
      " rows done.500\n",
      " rows done.600\n",
      " rows done.700\n",
      " rows done.800\n",
      " rows done.900\n",
      " rows done.1000\n",
      " rows done.1100\n",
      " rows done.1200\n",
      " rows done.1300\n",
      "\n",
      " dataframe prepped.  timepoints, each with  features.AAPL139514\n"
     ]
    }
   ],
   "source": [
    "def prep_data(ticker,\n",
    "              stock_file = 'data/stock/prices-split-adjusted.csv', \\\n",
    "              news_directory = 'data/news/', \\\n",
    "              econ_file = 'data/market/economic_indicators.csv', \\\n",
    "              reddit_file = 'data/market/reddit_sentiments.csv'):\n",
    "    ''' merge stock closing price data, sec filing data, and newspaper sentiment into one dataframe '''\n",
    "    \n",
    "    # load data\n",
    "    stock_df = pd.read_csv(stock_file, index_col=0)\n",
    "    stock_df = stock_df[stock_df.symbol==ticker].close\n",
    "    stock_df.index = pd.to_datetime(stock_df.index)\n",
    "    news_df = pd.read_csv(news_directory+ticker+'.csv', index_col=0)\n",
    "    news_df.index = pd.to_datetime(news_df.index)\n",
    "    econ_df = pd.read_csv(econ_file, index_col=0)\n",
    "    econ_df.index = pd.to_datetime(econ_df.index)\n",
    "    reddit_df = pd.read_csv(reddit_file, index_col=0)\n",
    "    reddit_df.index = pd.to_datetime(reddit_df.index)\n",
    "    return_df = pd.DataFrame(columns=[stock_df.name]+['stock_'+a for a in list(news_df.columns)]+\\\n",
    "                             list(econ_df.columns)+['market_'+a for a in list(reddit_df.columns)])\n",
    "    \n",
    "    # clip price data that doesn't have news coverage or reddit coverage\n",
    "    d0, d1 = news_df.index[0].date(), news_df.index[1].date()\n",
    "    startdate = d0-(d1-d0)\n",
    "    stock_df = stock_df.loc[startdate:]\n",
    "    \n",
    "    # iterate through rows, aggregating all data and appending to return_df\n",
    "    for row_num in range(stock_df.shape[0]):\n",
    "        new_row = []\n",
    "        stock_date = stock_df.index[row_num].date()\n",
    "        new_row += [stock_df.iloc[row_num]]\n",
    "        new_row += list(news_df.loc[earliest_date_after(stock_date, news_df.index),:])\n",
    "        new_row += list(econ_df.loc[latest_date_before(stock_date, econ_df.index),:])\n",
    "        new_row += list(reddit_df.loc[earliest_date_after(stock_date, reddit_df.index),:])\n",
    "        return_df.loc[stock_date] = new_row\n",
    "        if row_num % 100 == 0:\n",
    "            print(\" rows done.{}\".format(row_num, stock_df.shape[0]))\n",
    "    print(\"\\n dataframe prepped.  timepoints, each with  features.{}{}{}\".format(ticker, return_df.shape[0], return_df.shape[1]))\n",
    "    return return_df\n",
    "\n",
    "# practice with AAPL stock data\n",
    "aapl_df = prep_data('AAPL')"
   ]
  },
  {
   "cell_type": "code",
   "execution_count": 6,
   "metadata": {
    "scrolled": true
   },
   "outputs": [
    {
     "data": {
      "text/html": [
       "<div>\n",
       "<style scoped>\n",
       "    .dataframe tbody tr th:only-of-type {\n",
       "        vertical-align: middle;\n",
       "    }\n",
       "\n",
       "    .dataframe tbody tr th {\n",
       "        vertical-align: top;\n",
       "    }\n",
       "\n",
       "    .dataframe thead th {\n",
       "        text-align: right;\n",
       "    }\n",
       "</style>\n",
       "<table border=\"1\" class=\"dataframe\">\n",
       "  <thead>\n",
       "    <tr style=\"text-align: right;\">\n",
       "      <th></th>\n",
       "      <th>close</th>\n",
       "      <th>stock_polarity</th>\n",
       "      <th>stock_subjectivity</th>\n",
       "      <th>stock_pos</th>\n",
       "      <th>stock_neg</th>\n",
       "      <th>stock_neu</th>\n",
       "      <th>CCI</th>\n",
       "      <th>BCI</th>\n",
       "      <th>CLI</th>\n",
       "      <th>market_neg</th>\n",
       "      <th>market_neu</th>\n",
       "      <th>market_pos</th>\n",
       "      <th>market_polarity</th>\n",
       "      <th>market_subjectivity</th>\n",
       "    </tr>\n",
       "  </thead>\n",
       "  <tbody>\n",
       "    <tr>\n",
       "      <th>2011-06-17</th>\n",
       "      <td>45.751427</td>\n",
       "      <td>-0.049008</td>\n",
       "      <td>0.085913</td>\n",
       "      <td>0.044214</td>\n",
       "      <td>0.058143</td>\n",
       "      <td>0.897643</td>\n",
       "      <td>100.4414</td>\n",
       "      <td>100.4065</td>\n",
       "      <td>99.7851</td>\n",
       "      <td>0.161208</td>\n",
       "      <td>0.184446</td>\n",
       "      <td>0.054288</td>\n",
       "      <td>-0.000445</td>\n",
       "      <td>0.229368</td>\n",
       "    </tr>\n",
       "    <tr>\n",
       "      <th>2011-06-20</th>\n",
       "      <td>45.045715</td>\n",
       "      <td>-0.049008</td>\n",
       "      <td>0.085913</td>\n",
       "      <td>0.044214</td>\n",
       "      <td>0.058143</td>\n",
       "      <td>0.897643</td>\n",
       "      <td>100.4414</td>\n",
       "      <td>100.4065</td>\n",
       "      <td>99.7851</td>\n",
       "      <td>0.161208</td>\n",
       "      <td>0.184446</td>\n",
       "      <td>0.054288</td>\n",
       "      <td>-0.000445</td>\n",
       "      <td>0.229368</td>\n",
       "    </tr>\n",
       "    <tr>\n",
       "      <th>2011-06-21</th>\n",
       "      <td>46.471428</td>\n",
       "      <td>-0.049008</td>\n",
       "      <td>0.085913</td>\n",
       "      <td>0.044214</td>\n",
       "      <td>0.058143</td>\n",
       "      <td>0.897643</td>\n",
       "      <td>100.4414</td>\n",
       "      <td>100.4065</td>\n",
       "      <td>99.7851</td>\n",
       "      <td>0.161208</td>\n",
       "      <td>0.184446</td>\n",
       "      <td>0.054288</td>\n",
       "      <td>-0.000445</td>\n",
       "      <td>0.229368</td>\n",
       "    </tr>\n",
       "    <tr>\n",
       "      <th>2011-06-22</th>\n",
       "      <td>46.087143</td>\n",
       "      <td>-0.049008</td>\n",
       "      <td>0.085913</td>\n",
       "      <td>0.044214</td>\n",
       "      <td>0.058143</td>\n",
       "      <td>0.897643</td>\n",
       "      <td>100.4414</td>\n",
       "      <td>100.4065</td>\n",
       "      <td>99.7851</td>\n",
       "      <td>0.161208</td>\n",
       "      <td>0.184446</td>\n",
       "      <td>0.054288</td>\n",
       "      <td>-0.000445</td>\n",
       "      <td>0.229368</td>\n",
       "    </tr>\n",
       "    <tr>\n",
       "      <th>2011-06-23</th>\n",
       "      <td>47.318573</td>\n",
       "      <td>-0.049008</td>\n",
       "      <td>0.085913</td>\n",
       "      <td>0.044214</td>\n",
       "      <td>0.058143</td>\n",
       "      <td>0.897643</td>\n",
       "      <td>100.4414</td>\n",
       "      <td>100.4065</td>\n",
       "      <td>99.7851</td>\n",
       "      <td>0.161208</td>\n",
       "      <td>0.184446</td>\n",
       "      <td>0.054288</td>\n",
       "      <td>-0.000445</td>\n",
       "      <td>0.229368</td>\n",
       "    </tr>\n",
       "  </tbody>\n",
       "</table>\n",
       "</div>"
      ],
      "text/plain": [
       "                close  stock_polarity  stock_subjectivity  stock_pos  \\\n",
       "2011-06-17  45.751427       -0.049008            0.085913   0.044214   \n",
       "2011-06-20  45.045715       -0.049008            0.085913   0.044214   \n",
       "2011-06-21  46.471428       -0.049008            0.085913   0.044214   \n",
       "2011-06-22  46.087143       -0.049008            0.085913   0.044214   \n",
       "2011-06-23  47.318573       -0.049008            0.085913   0.044214   \n",
       "\n",
       "            stock_neg  stock_neu       CCI       BCI      CLI  market_neg  \\\n",
       "2011-06-17   0.058143   0.897643  100.4414  100.4065  99.7851    0.161208   \n",
       "2011-06-20   0.058143   0.897643  100.4414  100.4065  99.7851    0.161208   \n",
       "2011-06-21   0.058143   0.897643  100.4414  100.4065  99.7851    0.161208   \n",
       "2011-06-22   0.058143   0.897643  100.4414  100.4065  99.7851    0.161208   \n",
       "2011-06-23   0.058143   0.897643  100.4414  100.4065  99.7851    0.161208   \n",
       "\n",
       "            market_neu  market_pos  market_polarity  market_subjectivity  \n",
       "2011-06-17    0.184446    0.054288        -0.000445             0.229368  \n",
       "2011-06-20    0.184446    0.054288        -0.000445             0.229368  \n",
       "2011-06-21    0.184446    0.054288        -0.000445             0.229368  \n",
       "2011-06-22    0.184446    0.054288        -0.000445             0.229368  \n",
       "2011-06-23    0.184446    0.054288        -0.000445             0.229368  "
      ]
     },
     "execution_count": 6,
     "metadata": {},
     "output_type": "execute_result"
    }
   ],
   "source": [
    "# display head of X dataframe\n",
    "aapl_df.head()"
   ]
  },
  {
   "cell_type": "code",
   "execution_count": 17,
   "metadata": {},
   "outputs": [],
   "source": [
    "def load_stock(df, lookback=25):\n",
    "    ''' scale data and split into training/test sets '''\n",
    "    data = df.values\n",
    "    n_train = list(df.index).index(df.index[-1]+timedelta(-365))\n",
    "    scaler = preprocessing.StandardScaler() #normalize mean-zero, unit-variance\n",
    "    scaler.fit(data[:n_train,:])\n",
    "    data = scaler.transform(data)\n",
    "    dataX, dataY = [], []\n",
    "    for timepoint in range(data.shape[0]-lookback):\n",
    "        dataX.append(data[timepoint:timepoint+lookback,:])\n",
    "        dataY.append(data[timepoint+lookback,0])\n",
    "    X_train, X_test = dataX[:n_train], dataX[n_train:]\n",
    "    y_train, y_test = dataY[:n_train], dataY[n_train:]\n",
    "    return np.array(X_train), np.array(y_train), np.array(X_test), np.array(y_test), scaler\n",
    "\n",
    "# load practice stock, AAPL\n",
    "lookback = 25\n",
    "X_train, y_train, X_test, y_test, scaler = load_stock(df=aapl_df, lookback=lookback)"
   ]
  },
  {
   "cell_type": "code",
   "execution_count": 36,
   "metadata": {},
   "outputs": [
    {
     "name": "stdout",
     "output_type": "stream",
     "text": [
      "training examples, test examples 1142 228\n"
     ]
    },
    {
     "data": {
      "image/png": "[encoded data removed]",
      "text/plain": [
       "<Figure size 720x432 with 1 Axes>"
      ]
     },
     "metadata": {},
     "output_type": "display_data"
    }
   ],
   "source": [
    "# denormalize training and test price data and plot\n",
    "print (\"training examples, test examples {} {}\".format(len(y_train),len(y_test)))\n",
    "\n",
    "fig, host = plt.subplots(figsize=(10,6))\n",
    "host.plot(range(len(y_train)), inv_price_transform(y_train, scaler), c='b', label='Training Data')\n",
    "host.plot(range(len(y_train),len(y_test)+len(y_train)), inv_price_transform(y_test, scaler), c='r', label='Test Data')\n",
    "host.set_title('AAPL Normalized Stock Price Data')\n",
    "host.set_xlabel('Day')\n",
    "host.set_ylabel('Closing price')\n",
    "plt.legend()\n",
    "plt.show()\n"
   ]
  },
  {
   "cell_type": "markdown",
   "metadata": {},
   "source": [
    "# Train LSTM RNN"
   ]
  },
  {
   "cell_type": "code",
   "execution_count": 19,
   "metadata": {},
   "outputs": [
    {
     "name": "stdout",
     "output_type": "stream",
     "text": [
      "_________________________________________________________________\n",
      "Layer (type)                 Output Shape              Param #   \n",
      "=================================================================\n",
      "lstm_1 (LSTM)                (None, 25, 128)           73216     \n",
      "_________________________________________________________________\n",
      "dropout_1 (Dropout)          (None, 25, 128)           0         \n",
      "_________________________________________________________________\n",
      "lstm_2 (LSTM)                (None, 128)               131584    \n",
      "_________________________________________________________________\n",
      "dropout_2 (Dropout)          (None, 128)               0         \n",
      "_________________________________________________________________\n",
      "dense_1 (Dense)              (None, 1)                 129       \n",
      "=================================================================\n",
      "Total params: 204,929\n",
      "Trainable params: 204,929\n",
      "Non-trainable params: 0\n",
      "_________________________________________________________________\n"
     ]
    }
   ],
   "source": [
    "# build model\n",
    "model = Sequential()\n",
    "model.add(LSTM(128, input_shape=(X_train.shape[1],X_train.shape[2]), return_sequences=True))\n",
    "model.add(Dropout(0.2))\n",
    "model.add(LSTM(128, return_sequences=False))\n",
    "model.add(Dropout(0.2))\n",
    "#model.add(Dense(32, kernel_initializer=\"uniform\", activation='relu'))        \n",
    "model.add(Dense(1, activation='linear'))\n",
    "model.compile(loss='mse', optimizer='rmsprop')\n",
    "model.summary()"
   ]
  },
  {
   "cell_type": "code",
   "execution_count": 22,
   "metadata": {},
   "outputs": [
    {
     "name": "stdout",
     "output_type": "stream",
     "text": [
      "TRAINING DONE .seconds to train.160\n"
     ]
    }
   ],
   "source": [
    "# fit model\n",
    "t0 = time.time()\n",
    "history = model.fit(\n",
    "            X_train,\n",
    "            y_train,\n",
    "            batch_size=512,\n",
    "            epochs=200,\n",
    "            validation_split=0.05,\n",
    "            verbose=0)\n",
    "print (\"TRAINING DONE .seconds to train.{}\".format(int(time.time()-t0)))"
   ]
  },
  {
   "cell_type": "code",
   "execution_count": 25,
   "metadata": {},
   "outputs": [],
   "source": [
    "##### SAVE MODEL #####\n",
    "model.save('model/model1.h5')"
   ]
  },
  {
   "cell_type": "markdown",
   "metadata": {},
   "source": [
    "# Predict Future Prices"
   ]
  },
  {
   "cell_type": "code",
   "execution_count": 27,
   "metadata": {},
   "outputs": [],
   "source": [
    "#### LOAD MODEL #####\n",
    "model = load_model('model/model1.h5')"
   ]
  },
  {
   "cell_type": "code",
   "execution_count": 38,
   "metadata": {},
   "outputs": [
    {
     "name": "stdout",
     "output_type": "stream",
     "text": [
      "RMSE: 0.41517327969244994\n"
     ]
    },
    {
     "data": {
      "image/png": "[encoded data removed]",
      "text/plain": [
       "<Figure size 720x432 with 1 Axes>"
      ]
     },
     "metadata": {},
     "output_type": "display_data"
    }
   ],
   "source": [
    "# predict test set\n",
    "predictions = model.predict(X_test)\n",
    "print(\"RMSE: {}\".format(np.sqrt(np.mean((predictions-y_test)**2))))\n",
    "\n",
    "fig, host = plt.subplots(figsize=(10,6))\n",
    "host.plot(predictions, c='b', label='predictions')\n",
    "host.plot(y_test, c='r', label='actual')\n",
    "host.set_ylabel('Normalized closing price')\n",
    "host.set_xlabel('Day')\n",
    "host.set_title('AAPL Test Set Predictions')\n",
    "plt.legend()\n",
    "plt.show()"
   ]
  }
 ],
 "metadata": {
  "kernelspec": {
   "display_name": "Python [conda env:mymlpython3.6]",
   "language": "python",
   "name": "conda-env-mymlpython3.6-py"
  },
  "language_info": {
   "codemirror_mode": {
    "name": "ipython",
    "version": 3
   },
   "file_extension": ".py",
   "mimetype": "text/x-python",
   "name": "python",
   "nbconvert_exporter": "python",
   "pygments_lexer": "ipython3",
   "version": "3.6.6"
  }
 },
 "nbformat": 4,
 "nbformat_minor": 2
}
