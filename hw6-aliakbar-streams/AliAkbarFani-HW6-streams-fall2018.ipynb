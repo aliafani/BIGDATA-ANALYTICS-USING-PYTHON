{
 "cells": [
  {
   "cell_type": "code",
   "execution_count": 2,
   "metadata": {},
   "outputs": [
    {
     "name": "stdout",
     "output_type": "stream",
     "text": [
      "Writing C:/Users/alifa/OneDrive/Documents/Bigdata//StreamsTweet_app.py\n"
     ]
    }
   ],
   "source": [
    "%%writefile C:/Users/alifa/OneDrive/Documents/Bigdata//StreamsTweet_app.py\n",
    "#Import the necessary methods from tweepy library\n",
    "from tweepy.streaming import StreamListener\n",
    "from tweepy.auth import OAuthHandler\n",
    "from tweepy import Stream\n",
    "\n",
    "#Variables that contains the user credentials to access Twitter API \n",
    "access_token = \"2261482722-PMBgA0HwYWyp3u4DArihMe8dZ80U1gANlLE5sqZ\"\n",
    "access_token_secret = \"Ta1oaaSKzb9fNtgzVxwHyZWvmsMypSefaUv11fKZDsWdh\"\n",
    "consumer_key = \"6kfpQ4WnZJVGUO4sr0sCbVnzw\"\n",
    "consumer_secret = \"eYVqcpObN3AlhdhBM5uGTiGkMvPJBMzcAk4A3lKgdJT7EVDMCH\"\n",
    "\n",
    "# This is a basic listener that just prints received tweets to stdout.\n",
    "class StdOutListener(StreamListener):\n",
    "    def on_data(self, data):\n",
    "        \n",
    "        #file=open(\"TweetOut.txt\",\"a\")\n",
    "        #file.write(data)\n",
    "        print(data)\n",
    "        return True\n",
    "\n",
    "    def on_error(self, status):\n",
    "        print (status)\n",
    "\n",
    "\n",
    "if __name__ == '__main__':\n",
    "    # This handles Twitter authetification and the connection to Twitter Streaming API\n",
    "    l = StdOutListener()\n",
    "    auth = OAuthHandler(consumer_key, consumer_secret)\n",
    "    auth.set_access_token(access_token, access_token_secret)\n",
    "    stream = Stream(auth, l)\n",
    "\n",
    "    # This line filter Twitter Streams to capture data by the keywords: 'python', 'javascript', 'ruby'\n",
    "\n",
    "    stream.filter(track=['Big Data', 'IoT','Cloud'])"
   ]
  },
  {
   "cell_type": "code",
   "execution_count": 1,
   "metadata": {},
   "outputs": [
    {
     "data": {
      "text/plain": [
       "u'C:\\\\Users\\\\alifa\\\\OneDrive\\\\Documents\\\\Bigdata\\\\Streams'"
      ]
     },
     "execution_count": 1,
     "metadata": {},
     "output_type": "execute_result"
    }
   ],
   "source": [
    "pwd "
   ]
  },
  {
   "cell_type": "code",
   "execution_count": null,
   "metadata": {},
   "outputs": [],
   "source": [
    "%%cmd\n",
    "python C:/Users/alifa/OneDrive/Documents/Bigdata/StreamsTweet_app.py> C:/Users/alifa/OneDrive/Documents/Bigdata/Streams/Tweet_Out.txt"
   ]
  },
  {
   "cell_type": "code",
   "execution_count": 1,
   "metadata": {},
   "outputs": [
    {
     "name": "stdout",
     "output_type": "stream",
     "text": [
      "350\n"
     ]
    },
    {
     "data": {
      "text/html": [
       "<div>\n",
       "<style scoped>\n",
       "    .dataframe tbody tr th:only-of-type {\n",
       "        vertical-align: middle;\n",
       "    }\n",
       "\n",
       "    .dataframe tbody tr th {\n",
       "        vertical-align: top;\n",
       "    }\n",
       "\n",
       "    .dataframe thead th {\n",
       "        text-align: right;\n",
       "    }\n",
       "</style>\n",
       "<table border=\"1\" class=\"dataframe\">\n",
       "  <thead>\n",
       "    <tr style=\"text-align: right;\">\n",
       "      <th></th>\n",
       "      <th>text</th>\n",
       "      <th>lang</th>\n",
       "      <th>time_zone</th>\n",
       "    </tr>\n",
       "  </thead>\n",
       "  <tbody>\n",
       "    <tr>\n",
       "      <th>0</th>\n",
       "      <td>Date and time is: Sun Dec 16 22:30:03 EST 2018...</td>\n",
       "      <td>en</td>\n",
       "      <td>None</td>\n",
       "    </tr>\n",
       "    <tr>\n",
       "      <th>1</th>\n",
       "      <td>You may be interested in this job =&amp;gt; IoT Ar...</td>\n",
       "      <td>en</td>\n",
       "      <td>None</td>\n",
       "    </tr>\n",
       "    <tr>\n",
       "      <th>2</th>\n",
       "      <td>Understand &amp;amp; #exploit the underlying #circ...</td>\n",
       "      <td>en</td>\n",
       "      <td>None</td>\n",
       "    </tr>\n",
       "    <tr>\n",
       "      <th>3</th>\n",
       "      <td>RT @FakeWIPCaller: That Foles word cloud thing...</td>\n",
       "      <td>en</td>\n",
       "      <td>None</td>\n",
       "    </tr>\n",
       "    <tr>\n",
       "      <th>4</th>\n",
       "      <td>RT @gp_pulipaka: Engineering Uber Predictions ...</td>\n",
       "      <td>en</td>\n",
       "      <td>None</td>\n",
       "    </tr>\n",
       "  </tbody>\n",
       "</table>\n",
       "</div>"
      ],
      "text/plain": [
       "                                                text lang time_zone\n",
       "0  Date and time is: Sun Dec 16 22:30:03 EST 2018...   en      None\n",
       "1  You may be interested in this job =&gt; IoT Ar...   en      None\n",
       "2  Understand &amp; #exploit the underlying #circ...   en      None\n",
       "3  RT @FakeWIPCaller: That Foles word cloud thing...   en      None\n",
       "4  RT @gp_pulipaka: Engineering Uber Predictions ...   en      None"
      ]
     },
     "execution_count": 1,
     "metadata": {},
     "output_type": "execute_result"
    }
   ],
   "source": [
    "import json\n",
    "import pandas as pd\n",
    "t_list = []\n",
    "t_file = open(\"Tweet_Out.txt\", \"r\")\n",
    "for line in t_file:\n",
    "    try:\n",
    "        tweet = json.loads(line)\n",
    "        t_list.append(tweet)\n",
    "    except:\n",
    "        continue\n",
    "print len(t_list)\n",
    "tweets = pd.DataFrame()\n",
    "tweets['text'] = map(lambda tweet: tweet['text'], t_list)\n",
    "tweets['lang'] = map(lambda tweet: tweet['lang'], t_list)\n",
    "tweets['time_zone'] = map(lambda tweet: tweet['user']['time_zone'], t_list)\n",
    "tweets.head(5)"
   ]
  },
  {
   "cell_type": "code",
   "execution_count": 2,
   "metadata": {},
   "outputs": [
    {
     "data": {
      "text/plain": [
       "         1782\n",
       "a          46\n",
       "cloud      44\n",
       "the        44\n",
       "to         28\n",
       "of         27\n",
       "I          25\n",
       "and        25\n",
       "on         25\n",
       "has        23\n",
       "dtype: int64"
      ]
     },
     "execution_count": 2,
     "metadata": {},
     "output_type": "execute_result"
    }
   ],
   "source": [
    "tweet_text=tweets.loc[tweets['lang']=='en','text']\n",
    "t_text_without_urls = tweet_text.str.replace('http\\S+|www.\\S', ' ', case=False)#removing URLs in tweet_text\n",
    "cleand_tweets=t_text_without_urls.str.replace('@[A-Za-z0-9]|[^0-9A-Za-z \\t]|RT+.*|[^A-Za-z]',' ', case=False)#removing special characters\n",
    "cleand_tweets.str.split(' ', expand=True).stack().unique()\n",
    "cleand_tweets.str.split(' ', expand=True).stack().value_counts().head(10)"
   ]
  },
  {
   "cell_type": "code",
   "execution_count": 5,
   "metadata": {},
   "outputs": [
    {
     "name": "stdout",
     "output_type": "stream",
     "text": [
      "showing info https://raw.githubusercontent.com/nltk/nltk_data/gh-pages/index.xml\n"
     ]
    },
    {
     "data": {
      "text/plain": [
       "True"
      ]
     },
     "execution_count": 5,
     "metadata": {},
     "output_type": "execute_result"
    }
   ],
   "source": [
    "import nltk\n",
    "nltk.download()"
   ]
  },
  {
   "cell_type": "code",
   "execution_count": 7,
   "metadata": {},
   "outputs": [
    {
     "name": "stdout",
     "output_type": "stream",
     "text": [
      "[u'Date' u'time' u'Sun' u'Dec' u'EST' u'current' u'memory' u'usage' u'M'\n",
      " u'Powered' u'RaspberryPi' u'Maker' u'IoT' u'You' u'may' u'interested'\n",
      " u'job' u'gt' u'Architect' u'bigdata' u'iot' u'analytics' u'ai'\n",
      " u'Understand' u'amp' u'exploit' u'underlying' u'circuit' u'components'\n",
      " u'device' u'learn' u'UA' '' u'Applications' u'Data' u'Science' u'A'\n",
      " u'Enterprise' u'View' u'Internet' u'Of' u'Things' u'Infographic' u'isher'\n",
      " u'via' u'ntgrasso' u'DbiSrl' u'IIoT' u'AI' u'innovation' u'Temp' u'C'\n",
      " u'Steady' u'RH' u'Wind' u'WNW' u'km' u'h' u'F' u'BP' u'hpa' u'Falling'\n",
      " u'Rain' u'day' u'mm' u'Cloud' u'Base' u'Hi' u'Lo' u'Coinbase' u'Revamps'\n",
      " u'PayPal' u'Withdrawals' u'US' u'Crypto' u'Users' u'oinDesk'\n",
      " u'Blockchain' u'HyperX' u'Revolver' u'S' u'Headset' u'Hyper' u'Current'\n",
      " u'Temperature' u'Pressure' u'hPa' u'Humidity' u'HongKong' u'SenseHAT'\n",
      " u'driven' u'fantastic' u'productivity' u'growth' u'much' u'come' u'In'\n",
      " u'year' u'G' u'received' u'estimated' u'million' u'investment'\n",
      " u'multiple' u'rounds' u'making' u'Binary' u'search' u'algorithm' u'big'\n",
      " u'data' u'step' u'ISMTechnology' u'ISMSharingContent' u'Free' u'mining'\n",
      " u'bitcoin' u'deposit' u'Bitcoin' u'need' u'invest' u'cloud' u'Verified'\n",
      " u'Pay' u'Sign' u'U' u'lonmusk' u'Does' u'little' u'indicate' u'fa' u'NBC'\n",
      " u'We' u'use' u'PFF' u'Also' u'Look' u'word' u'FREE' u'header' u'Just'\n",
      " u'credit' u'Took' u'peacemaker' u'project' u'mak' u'The' u'lashed'\n",
      " u'humbled' u'Egypt' u'fought' u'Egyptian' u'army' u'If' u'spending' u'k'\n",
      " u'infrastructure' u'provider' u'hmu' u'anonical' u'provides' u'options'\n",
      " u'Buying' u'devices' u'holiday' u'season' u'Be' u'informed' u'security'\n",
      " u'settings' u'update' u'schedules' u'Social' u'media' u'tech'\n",
      " u'collecting' u'private' u'info' u'monitoring' u'browsing' u'controlling'\n",
      " u'news' u'w' u'Read' u'Robotics' u'Autom' u'ynieg' u'arl' u'inkyfaye'\n",
      " u'alvado' u'IN' u'CyberSecurity' u'infosec' u'sensors' u'drones' u'Mach'\n",
      " u'Who' u'blackmailed' u'What' u'dark' u'secrets' u'conceal' u'How'\n",
      " u'bribe' u'people' u'All' u'skeleton' u'cupboard' u'etlefSchrempf' u'O'\n",
      " u'ScottKacsmar' u'left' u'lingering' u'organization' u'sure' u'Followed'\n",
      " u'three' u'poor' u'pfr' u'g' u'av' u'ts' u'like' u'I' u'going' u'ASSUME'\n",
      " u'case' u'save' u'got' u'deleted' u'reformat' u'Trump' u'could' u'fire'\n",
      " u'Sessions' u'midterms' u'knows' u'special' u'counsel' u'presidency' u'b'\n",
      " u'Q' u'miss' u'see' u'look' u'clouds' u'think' u'AWS' u'Summit' u'Berlin'\n",
      " u'und' u'Save' u'AWSSummitBerlin' u'Ambassades' u'RinMalaysia' u'mission'\n",
      " u'become' u'preferred' u'solutions' u'enabler' u'Xperanti' u'pa' u'New'\n",
      " u'post' u'LEONARD' u'FASHION' u'Cut' u'sew' u'Top' u'floral' u'pattern'\n",
      " u'navy' u'pink' u'green' u'published' u'DEALZ' u'THIS' u'IS' u'WORD'\n",
      " u'CLOUD' u'Owns' u'ALL' u'Central' u'Banks' u'Media' u'Co'\n",
      " u'Intelligence' u'Agencies' u'PEOPLE' u'REALLY' u'BE' u'LIKE' u'YES'\n",
      " u'WILL' u'KICK' u'YOUR' u'ASS' u'WITH'\n",
      " u'LMFAOOOOAOWOKSKWKSKSKKSKSKSKWOWKJEKSKSKS' u'anyway' u'shit' u'count'\n",
      " u'sabremetrics' u'FTCommenter' u'herunchat' u'On' u'arminconnect' u'also'\n",
      " u'pen' u'paper' u'know' u'Though' u'something' u'reall' u'liked'\n",
      " u'ouTube' u'video' u'Most' u'Accurate' u'Gaming' u'Invincible'\n",
      " u'Marksman' u'Trend' u'SOFTWARE' u'WEBDECELOPMENT' u'CLOUDING'\n",
      " u'STEPFORWARD' u'Why' u'would' u'administration' u'purge' u'files'\n",
      " u'tehrani' u'ebweinswig' u'ashthefuturist' u'rRonconi' u'Cheap'\n",
      " u'Multimeter' u'Leads' u'Come' u'With' u'Extra' u'Ohms' u'suppose'\n",
      " u'really' u'loose' u'interpretation' u'Work' u'machinery' u'always'\n",
      " u'Even' u'sle' u'mono' u'Not' u'rainbow' u'color' u'storm' u'grays'\n",
      " u'black' u'WWETLC' u'MoDaoZuShi' u'ichaelKistNFL' u'Yeah' u'Sunshine'\n",
      " u'People' u'talk' u'rain' u'heads' u'Changbin' u'feels' u'real' u'He'\n",
      " u'sees' u'MY' u'BANGS' u'IM' u'SCREAMING' u'well' u'force' u'shapes'\n",
      " u'future' u'take' u'standardization' u'seriously' u'embrace' u'po'\n",
      " u'Fintech' u'c' u'ct' u'Diamond' u'Eternity' u'Ring' u'Womens' u'Wedding'\n",
      " u'Anniversary' u'Band' u'Season' u'Schlage' u'Sweepstakes' u'Visa'\n",
      " u'Giftcard' u'Connect' u'Zigbee' u'Amazon' u'Cam' u'Bundle' u'Wipro'\n",
      " u'one' u'leading' u'Sea' u'Beach' u'Atmosphere' u'Scenery' u'Sky'\n",
      " u'Tropical' u'Thailand' u'Beautiful' u'Nice' u'Photography' u'Big'\n",
      " u'advanced' u'NEW' u'HP' u'Pavilion' u'Laptop' u'Intel' u'Core' u'GB'\n",
      " u'TB' u'DVD' u'RW' u'Win' u'STOPBY' u'Private' u'Server' u'Market'\n",
      " u'Outlook' u'PaaS' u'Our' u'effo' u'cou' u'Still' u'Catriona' u'Gray'\n",
      " u'th' u'Miss' u'Universe' u'Congratulations' u'Proud' u'missuniverse'\n",
      " u'catrionagray' u'oasty' u'nerd' u'remember' u'episode' u'Alain'\n",
      " u'Resnais' u'Decade' u'Film' u'Kimstim' u'Collection' u'Disc' u'Set'\n",
      " u'DEA' u'Definitely' u'Labelling' u'ealPresidentT' u'mushroom' u'anytime'\n",
      " u'want' u'Fisher' u'antgrasso' u'Chrono' u'urora' u'f' u'Stabbed' u'Wth'\n",
      " u'Unlocking' u'human' u'potential' u'DigitalTransformation' u'Sma'\n",
      " u'Award' u'Kids' u'Spring' u'Fashion' u'VIDZ' u'Cybersecur' u'Lakers'\n",
      " u'T' u'Revolution' u'NINE' u'Mordred' u'revs' u'motorcycle' u'creates'\n",
      " u'huge' u'smoke' u'When' u'dissipates' u'lying' u'completely' u'dead'\n",
      " u'pavement' u'highlights' u'weekend' u'Thank' u'lackGirlHockey'\n",
      " u'putting' u'together' u'OTHER' u'Apple' u'iPhon' u'Plus' u'Space'\n",
      " u'Factory' u'Unlocked' u'ANY' u'GSM' u'ST' u'GOT' u'Mark' u'OT'\n",
      " u'Official' u'tuan' u'Sunday' u'edition' u'Whole' u'Nuther' u'Thing'\n",
      " u'Mix' u'Mixcloud' u'Click' u'Link' u'uturism' u'mobile' u'tablet'\n",
      " u'connected' u'Guys' u'yalls' u'hyperX' u'stinger' u'less' u'months'\n",
      " u'old' u'mont' u'As' u'move' u'outside' u'comfo' u'top' u'companies'\n",
      " u'ooof' u'hea' u'BAUME' u'et' u'MERCIER' u'LINEA' u'WOMEN' u'LUXURY'\n",
      " u'WATCH' u'MOA' u'Use' u'term' u'silver' u'lining' u'emphasize'\n",
      " u'hopeful' u'side' u'situation' u'might' u'seem' u'Microsoft' u'ove'\n",
      " u'Pink' u'Chalcedony' u'Gold' u'Plated' u'Designer' u'Chain' u'Necklace'\n",
      " u'Jewelry' u'ITU' u'Study' u'Group' u'world' u'foremost' u'authority'\n",
      " u'international' u'numbering' u'led' u'allocation' u'global' u'IMSI'\n",
      " u'Choosing' u'Between' u'Azure' u'Google' u'Zone' u'Embedded' u'Software'\n",
      " u'rd' u'Edition' u'This' u'photo' u'premonition' u'sucessor' u'crown'\n",
      " u'CONGRATULAT' u'every' u'idk' u'pics' u'eyes' u'sun' u'wrong' u'squint'\n",
      " u'Intelligent' u'Insights' u'Dynamics' u'Blog' u'sketchy' u'dog' u'sing'\n",
      " u'deep' u'Going' u'scream' u'shout' u'La' u'la' u'Check' u'ethan'\n",
      " u'beautiful' u'logo' u'design' u'Fiverr' u'Trickle' u'Down'\n",
      " u'hePhilocypher' u'ovaSpec' u'onopr' u'ee' u'ancer' u'new'\n",
      " u'fundamentals' u'Flight' u'neat' u'option' u'Hey' u'ASA' u'sign' u'init'\n",
      " u'load' u'datadisk' u'ubuntu' u'VM' u'azure' u'takeaknee' u'continue'\n",
      " u'suppo' u'Ok' u'Goff' u'To' u'sunrise' u'sunset' u'golden' u'canopied'\n",
      " u'sliver' u'And' u'another' u'Circle' u'life' u'Samsung' u'SM' u'R'\n",
      " u'NZBAXAR' u'Gear' u'Spo' u'Busch' u'Siemens' u'MindSphere' u'positioned'\n",
      " u'merely' u'platform' u'operatingsystem' u'Theres' u'month' u'feel'\n",
      " u'wanted' u'alone' u'Today' u'Guess' u'glad' u'ThatGirlAly' u'literally'\n",
      " u'Pact' u'signed' u'launch' u'blockchain' u'service' u'Muscat' u'VeChain'\n",
      " u'BIOS' u'Middle' u'East' u'memorandum' u'unde' u'HNews' u'OKAY'\n",
      " u'HURRICANES' u'ARE' u'TYPHOONS' u'PSYCLONS' u'stop' u'giant' u'energy'\n",
      " u'storms' u'ionosphere' u'stratosph' u'Crushed' u'collection'\n",
      " u'labelling' u'ezeradd' u'Maybe' u'magical' u'suffocation' u'powers'\n",
      " u'lolol' u'Me' u'consumed' u'existence' u'oh' u'lord' u'UMass' u'St'\n",
      " u'State' u'Minnesota' u'Duluth' u'Quinnipiac' u'Ohio' u'MCM' u'Visetos'\n",
      " u'Women' u'Silver' u'Sneakers' u'Shoes' u'Sz' u'latest' u'Daily'\n",
      " u'Thanks' u'dxcentral' u'erohive' u'cio' u'Dolby' u'Vi' u'Girls'\n",
      " u'please' u'GE' u'rolls' u'induatrial' u'platlform' u'Predix' u'separate'\n",
      " u'company' u'Boosting' u'Files' u'Haters' u'found' u'dismembered'\n",
      " u'killa' u'Try' u'DigitalOcean' u'free' u'compared' u'providers'\n",
      " u'HealthCare' u'Robots' u'Heal' u'Ce' u'robot' u'developed' u'disaster'\n",
      " u'rescue' u'missions' u'robotics' u'ML' u'Great' u'example' u'pairing'\n",
      " u'body' u'font' u'display' u'mention' u'using' u'Solitaire' u'Halo'\n",
      " u'Engagement' u'Round' u'White' u'Prong' u'Appraisal' u'im' u'main'\n",
      " u'Well' u'regreinha' u'L' u'Life' u'ilovela' u'centurycity' u'westfield'\n",
      " u'westfieldmall' u'california' u'sky' u'nature' u'moment' u'spitting'\n",
      " u'hot' u'winning' u'team' u'full' u'song' u'sound' u'piderOfSIN'\n",
      " u'warrior' u'noticed' u'sweep' u'late' u'reaction' u'hit' u'legs'\n",
      " u'roughly' u'digitalmarketing' u'socialmedia' u'smm'\n",
      " u'socialmediamarketing' u'mar' u'Sta' u'mazon' u'aws' u'databusiness'\n",
      " u'Is' u'Getting' u'Satellite' u'Business' u'Palo' u'Alto' u'Networks'\n",
      " u'looking' u'Intern' u'Engineer' u'PhethaiCyclone' u'build' u'Cyclone'\n",
      " u'Phethai' u'seconds' u'Pethai' u'Analytics' u'ullFerrara' u'avellom'\n",
      " u'datascience' u'CONGRATULATIONS' u'make' u'thi' u'Antares' u'bright'\n",
      " u'star' u'album' u'risWu' u'Mixing' u'Rap' u'Trap' u'ris' u'storage'\n",
      " u'systems' u'shared' u'workplaces' u'Teams' u'made' u'millennial'\n",
      " u'dream' u'work' u'ickgshitpost' u'essiemau' u'idusNova' u'heJWittz'\n",
      " u'Sora' u'original' u'content' u'Kingdom' u'Hea' u'Angel' u'Links'\n",
      " u'Complete' u'DEALS' u'Digital' u'Works']\n"
     ]
    }
   ],
   "source": [
    "import nltk\n",
    "from nltk.corpus import stopwords\n",
    "import numpy as np\n",
    "\n",
    "#eliminates stop word\n",
    "s = stopwords.words('english')\n",
    "\n",
    "No_stopwords=cleand_tweets.apply(lambda x: ' '.join([word for word in x.split() if word not in (s)]))\n",
    "cleaned_without_stopwords=No_stopwords.str.split(' ', expand=True).stack().unique()\n",
    "No_stopwords.str.split(' ', expand=True).stack().value_counts()\n",
    "print cleaned_without_stopwords\n",
    "\n",
    "np.savetxt(r'english/test.txt', cleaned_without_stopwords, fmt='%s')"
   ]
  },
  {
   "cell_type": "code",
   "execution_count": 9,
   "metadata": {},
   "outputs": [],
   "source": [
    "#creates other dataset but with same keywords\n",
    "import json\n",
    "import pandas as pd\n",
    "from nltk.corpus import stopwords\n",
    "import numpy as np\n",
    "\n",
    "t_list = []\n",
    "t_file = open(\"Tweet_Out1.txt\", \"r\")\n",
    "for line in t_file:\n",
    "    try:\n",
    "        tweet = json.loads(line)\n",
    "        t_list.append(tweet)\n",
    "    except:\n",
    "        continue\n",
    "        \n",
    "tweets = pd.DataFrame()\n",
    "tweets['text'] = map(lambda tweet: tweet['text'], t_list)\n",
    "tweets['lang'] = map(lambda tweet: tweet['lang'], t_list)\n",
    "tweets['time_zone'] = map(lambda tweet: tweet['user']['time_zone'], t_list)\n",
    "tweets.head(5)\n",
    "\n",
    "tweet_text=tweets.loc[tweets['lang']=='en','text']\n",
    "t_text_without_urls = tweet_text.str.replace('http\\S+|www.\\S', ' ', case=False)\n",
    "cleand_tweets=t_text_without_urls.str.replace('@[A-Za-z0-9]|[^0-9A-Za-z \\t]|RT+.*|[^A-Za-z]',' ', case=False)\n",
    "cleand_tweets.str.split(' ', expand=True).stack().unique()\n",
    "cleand_tweets.str.split(' ', expand=True).stack().value_counts().head(10)\n",
    "\n",
    "stop = stopwords.words('english')\n",
    "No_stopwords=cleand_tweets.apply(lambda x: ' '.join([word for word in x.split() if word not in (stop)]))\n",
    "cleaned_without_stopwords_1=No_stopwords.str.split(' ', expand=True).stack().unique()\n",
    "No_stopwords.str.split(' ', expand=True).stack().value_counts()\n",
    "\n",
    "np.savetxt(r'english/test1.txt', cleaned_without_stopwords_1, fmt='%s')"
   ]
  },
  {
   "cell_type": "markdown",
   "metadata": {},
   "source": [
    "6.2 Create a bloom filter classifying two days worth of  the streams ( after removing stop words and urls  ) "
   ]
  },
  {
   "cell_type": "code",
   "execution_count": 10,
   "metadata": {},
   "outputs": [
    {
     "name": "stdout",
     "output_type": "stream",
     "text": [
      "test1.txt set(['', 'yellow', 'hate', 'forget', 'tweet', 'umass', 'lord', 'pact', 'updated', 'rescue', 'every', 'updates', 'stabbed', 'screaming', 'companies', 'humidity', 'vivobook', 'force', 'second', 'estimated', 'even', 'revolver', 'lights', 'ogthecat', 'new', 'ummerdru', 'kicked', 'men', 'bhubaneshwar', 'bangkok', 'aptmorganray', 'yuchan', 'kids', 'k', 'credit', 'smoke', 'browsing', 'adopting', 'golden', 'fantastic', 'spooky', 'ftcommenter', 'total', 'would', 'army', 'sweater', 'music', 'infosec', 'award', 'berlin', 'me', 'word', 'room', 'mm', 'ml', 'work', 'mi', 'solitaire', 'containment', 'my', 'example', 'give', 'household', 'dolphin', 'seamaster', 'want', 'goff', 'weetcloudbot', 'turn', 'provide', 'song', 'machine', 'how', 'hot', 'toxic', 'symposium', 'beach', 'charging', 'gaming', 'dxcentral', 'mest', 'wrong', 'curiosity', 'ove', 'schneider', 'green', 'alvado', 'sucessor', 'vapor', 'squint', 'interpretation', 'office', 'arminconnect', 'plated', 'ima', 'highlights', 'fix', 'socialmedia', 'imo', 'better', 'production', 'ooof', 'easier', 'band', 'they', 'silver', 'l', 'volcano', 'side', 'mean', 'lifted', 'diane', 'navy', 'logo', 'collector', 'ring', 'goo', 'rw', 'network', 'haired', 'hooked', 'vibes', 'rd', 'smm', 'got', 'rh', 'sma', 'free', 'boosting', 'sensors', 'wanted', 'days', 'creates', 'iphon', 'onto', 'clouding', 'enix', 'industrial', 'another', 'drones', 'antarctic', 'service', 'top', 'engagement', 'girls', 'bitcoin', 'listed', 'legs', 'took', 'reclining', 'catrionagray', 'enabler', 'feeling', 'powers', 'fashion', 'sees', 'eyes', 'rap', 'seem', 'rsi', 'reall', 'luxury', 'guanhuo', 'oindesk', 'nobody', 'though', 'blackmailed', 'coin', 'changbin', 'apmob', 'dummy', 'episode', 'consumed', 'm', 'dog', 'internetofthings', 'definitely', 'tech', 'enterprise', 'lpg', 'xperanti', 'scream', 'reserve', 'saying', 'solutions', 'effo', 'availability', 'layout', 'just', 'yelovezz', 'minnesota', 'rick', 'technode', 'air', 'de', 'watch', 'preferred', 'foremost', 'amazon', 'wedding', 'midterms', 'ds', 'automatio', 'ambassades', 'piggy', 'ban', 'stinger', 'automatic', 'decides', 'disaster', 'analytics', 'best', 'plummeting', 'r', 'drawn', 'warrior', 'we', 'never', 'nature', 'weekend', 'wear', 'dismembered', 'wth', 'news', 'received', 'climate', 'cou', 'eyeball', 'und', 'and', 'tone', 'elf', 'phethai', 'asks', 'isher', 'three', 'much', 'life', 'mushroom', 'sunshine', 'haters', 'intag', 'east', 'presidency', 'n', 'neat', 'sle', 'study', 'mexico', 'is', 'it', 'ikequindazzi', 'congratulat', 'im', 'haptic', 'if', 'things', 'make', 'stepforward', 'babies', 'satellite', 'blue', 'rain', 'bloomberg', 'workings', 'on', 'ocean', 'tho', 'thi', 'the', 'left', 'proposed', 'photo', 'laptop', 'thanks', 'human', 'facts', 'yes', 'yet', 'previous', 'character', 'shout', 'easy', 'digitalmarketingtips', 'bitker', 'advanced', 'specia', 'standardization', 'pavement', 'night', 'security', 'prepping', 'old', 'people', 'cybersecurity', 'crown', 'dead', 'lashed', 'intern', 'jupiter', 'nzbaxar', 'peacemaker', 'tutorial', 'for', 'bottom', 'purple', 'ickgshitpost', 'christmas', 'core', 'giftcard', 'deleted', 'marketing', 'post', 'super', 'conceal', 'months', 'o', 'alber', 'plus', 'azure', 'down', 'amamotenko', 'rounds', 'america', 'sovereign', 'fought', 'wordpress', 'call', 'happy', 'head', 'heal', 'paypal', 'canopied', 'uncle', 'solar', 'congratulations', 'pavilion', 'invincible', 'devices', 'adore', 'adopt', 'shin', 'palo', 'computing', 'huoxun', 'induatrial', 'marksman', 'millennial', 'floating', 'check', 'shit', 'nd', 'nz', 'interested', 'holding', 'digital', 'test', 'eternity', 'cybersecur', 'update', 'journey', 'chalcedony', 'unlocking', 'chrono', 'faze', 'daily', 'time', 'dbisrl', 'songs', 'managed', 'chain', 'global', 'leads', 'chair', 'operatingsystem', 'purplejxnskzjdbsj', 'zone', 'finally', 'brown', 'nergymink', 'join', 'clouds', 'die', 'leave', 'team', 'guy', 'round', 'revolution', 'findings', 'trend', 'trails', 'discover', 'cyber', 'ntgrasso', 'dolby', 'headset', 'contracted', 'current', 'shared', 'falling', 'filled', 'mp', 'dissipates', 'strategies', 'alone', 'appears', 'change', 'alto', 'appraisal', 'lakers', 'bow', 'bangs', 'love', 'extra', 'merely', 'market', 'visit', 'predictions', 'suppo', 'nergy', 'memory', 'today', 'introducing', 'sharing', 'sessions', 'onopr', 'insights', 'edible', 'cat', 'purge', 'can', 'cam', 'making', 'herunchat', 'laughter', 'trump', 'catstagram', 'expanding', 'hereapre', 'allowed', 'pink', 'ilovevultr', 'gemuller', 'monitoring', 'sunday', 'vital', 'designer', 'may', 'applications', 'floral', 'such', 'mak', 'data', 'sz', 'altyparis', 'natural', 'remember', 'maybe', 'hyperx', 'st', 'q', 'complaining', 'predix', 'deposit', 'sm', 'talk', 'piderofsin', 'shoes', 'years', 'brain', 'nondelivery', 'still', 'blocked', 'uturism', 'thank', 'amazing', 'platform', 'main', 'non', 'finance', 'smash', 'nod', 'not', 'now', 'halo', 'earauntcrabby', 'term', 'drop', 'crypto', 'adoop', 'square', 'ee', 'ef', 'ea', 'yeah', 'challenges', 'anonical', 'ey', 'begun', 'year', 'et', 'cybermonday', 'sunrise', 'album', 'stngreen', 'space', 'visetos', 'factory', 'looking', 'seriously', 'internet', 'shows', 'attended', 'million', 'quite', 'sabremetrics', 'california', 'thing', 'place', 'modaozushi', 'view', 'think', 'first', 'fleeing', 'one', 'long', 'sounds', 'open', 'engineer', 'little', 'indicate', 'white', 'lingering', 'hephilocypher', 'mining', 'hub', 'that', 'season', 'dudes', 'gotta', 'future', 'published', 'digitalmarketing', 'btc', 'angel', 'ixtron', 'locations', 'sad', 'yalls', 'any', 'emer', 'potential', 'regreinha', 'take', 'performance', 'sure', 'multiple', 'ojaemean', 'falls', 'banks', 'exorcia', 'cleared', 'catriona', 'proud', 'steady', 'socialmediamarketing', 'sunset', 'wind', 'shot', 'tkc', 'show', 'mains', 'cheap', 'bright', 'storms', 'texture', 'going', 'black', 'get', 'counsel', 'humbled', 'reveal', 'settings', 'arincolville', 'morning', 'cis', 'outside', 'between', 'justified', 'infrastructure', 'mosquitos', 'mingyang', 'machinelea', 'awards', 'rcadiadata', 'jobl', 'come', 'reaction', 'missions', 'mono', 'tour', 'comes', 'color', 'robotics', 'exploit', 'learning', 'save', 'informed', 'consultancy', 'mark', 'tropical', 'almighty', 'pilot', 'sound', 'these', 'situation', 'middle', 'bias', 'embrace', 'technology', 'mercier', 'binary', 'verified', 'pav', 'pay', 'sketchy', 'speech', 'reminder', 'week', 'allocation', 'changing', 'in', 'magical', 'ismtechnology', 'components', 'researchers', 'summer', 'when', 'actions', 'thinking', 'seems', 'blog', 'kingdom', 'rules', 'dark', 'killa', 'schedules', 'coinbase', 'using', 'moa', 'tacktime', 'intel', 'server', 't', 'zigbee', 'root', 'scholarships', 'unlocked', 'bigdata', 'provides', 'provider', 'business', 'seconds', 'stopby', 'thailand', 'datacenter', 'ok', 'oh', 'of', 'ethereum', 'resnais', 'ot', 'outlook', 'your', 'omega', 'there', 'hey', 'lol', 'cats', 'hea', 'stars', 'labelling', 'purble', 'valley', 'pretends', 'complete', 'fundamentals', 'alain', 'lmaooo', 'beginners', 'poshmark', 'hurricanes', 'technologies', 'trying', 'with', 'buying', 'algorithm', 'embedded', 'assume', 'sojaemean', 'ad', 'ai', 'ah', 'ancer', 'deep', 'general', 'as', 'ar', 'revamps', 'av', 'nerd', 'film', 'apmentors', 'sunrays', 'storage', 'you', 'poor', 'separate', 'students', 'aws', 'dropbox', 'building', 'invest', 'dyed', 'u', 'god', 'once', 'original', 'all', 'skeleton', 'founder', 'month', 'disc', 'follow', 'content', 'lining', 'ts', 'ebweinswig', 'to', 'init', 'th', 'nodes', 'te', 'tb', 'case', 'mindsphere', 'egyptian', 'uwu', 'circuit', 'fiverr', 'businessintelligence', 'ass', 'instagram', 'synergy', 'design', 'nbc', 'investment', 'what', 'sun', 'anniversary', 'scientists', 'full', 'loose', 'bloggers', 'oldie', 'fatter', 'attibee', 'search', 'stratosph', 'pics', 'social', 'real', 'hejwittz', 'options', 'via', 'followed', 'family', 'ask', 'flaws', 'revelation', 'two', 'more', 'israel', 'diamond', 'knows', 'company', 'leonard', 'vm', 'landed', 'controlling', 'glad', 'tuan', 'science', 'nine', 'dem', 'learn', 'dea', 'dec', 'beautiful', 'aughterofnai', 'lolol', 'dress', 'huge', 'rather', 'acts', 'okay', 'fu', 'suppose', 'fa', 'coming', 'develop', 'fm', 'a', 'anytime', 'grande', 'media', 'ichaelkistnfl', 'dream', 'ttlepeach', 'innova', 'help', 'developed', 'mission', 'kinsta', 'paper', 'existence', 'bcnews', 'itu', 'its', 'riswu', 'late', 'systems', 'might', 'good', 'everytime', 'always', 'labeling', 'grayest', 'found', 'everyone', 'tilted', 'energy', 'hard', 'positioned', 'idea', 'connect', 'insurance', 'really', 'deals', 'missed', 'since', 'cyclone', 'lackgirlhockey', 'timeline', 'digitalmarketingagency', 'asa', 'base', 'put', 'loads', 'driven', 'launch', 'w', 'trickle', 'dont', 'feel', 'feet', 'miss', 'playon', 'guess', 'heads', 'temperature', 'introduction', 'leading', 'webdecelopment', 'ezeradd', 'storm', 'comfo', 'too', 'option', 'doctors', 'sign', 'kind', 'b', 'sta', 'quinnipiac', 'westfieldmall', 'ohms', 'determined', 'architect', 'roughly', 'philly', 'also', 'ealpresidentt', 'build', 'play', 'added', 'electric', 'reach', 'most', 'impacting', 'services', 'mach', 'ke', 'mobile', 'unreasonable', 'km', 'kt', 'asus', 'vidyas', 'microsoft', 'lying', 'hyper', 'gold', 'memorandum', 'font', 'fine', 'find', 'giant', 'believe', 'rande', 'circle', 'iiot', 'touchscreen', 'hit', 'feels', 'international', 'spikey', 'activity', 'river', 'sew', 'body', 'set', 'intelligence', 'ara', 'see', 'are', 'sea', 'seo', 'arl', 'project', 'pictures', 'wow', 'please', 'psyclons', 'probably', 'imsi', 'typhoons', 's', 'riyajsridhar', 'c', 'last', 'secrets', 'annual', 'foreign', 'avellom', 'whole', 'load', 'liked', 'sweet', 'ubuntu', 'sweep', 'catlover', 'coincidence', 'galileo', 'transformations', 'databusiness', 'pa', 'damn', 'maintenance', 'reformat', 'eddoomyak', 'po', 'flight', 'fire', 'gas', 'surfacing', 'mine', 'understand', 'outube', 'look', 'kick', 'fun', 'richter', 'theres', 'nuther', 'costly', 'ris', 'oasty', 'ready', 'busch', 'ric', 'read', 'emphasize', 'premonition', 'sliver', 'yesterday', 'moment', 'recent', 'mordred', 'tehrani', 'machinery', 'organization', 'gsm', 'know', 'shape', 'world', 'forrest', 'cut', 'tablet', 'carat', 'cuz', 'suffocation', 'big', 'couple', 'mazon', 'shapes', 'duluth', 'continue', 'google', 'spring', 'back', 'streaming', 'trends', 'experienced', 'sight', 'jewelry', 'pen', 'sneakers', 'innovation', 'muscat', 'be', 'bb', 'bi', 'withdrawals', 'step', 'ashthefuturist', 'bp', 'by', 'anything', 'idk', 'together', 'womens', 'wanna', 'rolls', 'spending', 'esurance', 'fast', 'bios', 'files', 'arilynlouise', 'boys', 'link', 'wnw', 'line', 'deployed', 'info', 'cio', 'up', 'us', 'planet', 'uk', 'antgrasso', 'ua', 'rainbow', 'nice', 'draw', 'users', 'robots', 'thatgirlaly', 'drag', 'antares', 'fisher', 'kors', 'ago', 'hememejester', 'dvd', 'age', 'ecoalonize', 'aga', 'datascience', 'summit', 'bribe', 'eegotachoppa', 'marvel', 'dvr', 'wipro', 'gt', 'inkyfaye', 'ge', 'infographic', 'gb', 'go', 'grays', 'issues', 'lmfaooooaowokskwkskskkskskskwowkjeksksks', 'helps', 'uploaded', 'staley', 'breathing', 'putting', 'mixing', 'witricity', 'michael', 'try', 'dealz', 'bernie', 'video', 'dynamics', 'click', 'networks', 'volatile', 'scenery', 'led', 'leg', 'pushing', 'sensehat', 'leo', 'idusnova', 'sing', 'great', 'mixcloud', 'implement', 'maker', 'datadisk', 'apple', 'egypt', 'win', 'app', 'private', 'cloud', 'use', 'blockchain', 'iit', 'slim', 'pff', 'hurukenyarra', 'hein', 'pfr', 'sora', 'central', 'women', 'announcing', 'f', 'this', 'thin', 'crocker', 'links', 'providers', 'spo', 'high', 'something', 'tan', 'native', 'hongkong', 'forest', 'revs', 'intelligent', 'cupboard', 'stop', 'collection', 'inst', 'paas', 'light', 'robot', 'hnews', 'healthcare', 'necklace', 'software', 'linea', 'move', 'motorcycle', 'galaxy', 'kimstim', 'ynieg', 'lo', 'winning', 'choose', 'holiday', 'dad', 'esla', 'mention', 'rinmalaysia', 'day', 'trap', 'narchistkeeper', 'related', 'mar', 'ionosphere', 'our', 'agriculture', 'special', 'out', 'chelsoft', 'electronics', 'unde', 'qua', 'completely', 'york', 'interaction', 'g', 'could', 'ltc', 'catsofinstagram', 'date', 'filigree', 'centurycity', 'ordering', 'guys', 'their', 'attack', 'prong', 'gear', 'pethai', 'exactly', 'dreary', 'lists', 'submitted', 'growthhacking', 'unningsq', 'collecting', 'essiemau', 'need', 'platlform', 'mix', 'hp', 'soar', 'worldwide', 'phethaicyclone', 'who', 'multimeter', 'visa', 'connected', 'device', 'delve', 'why', 'atmosphere', 'anyway', 'abostar', 'decade', 'erohive', 'promote', 'hopeful', 'ethan', 'employee', 'thousands', 'hope', 'raspberrypi', 'beat', 'photography', 'autom', 'vechain', 'words', 'striped', 'gray', 'h', 'teams', 'she', 'ohio', 'sho', 'groggy', 'taiwanese', 'module', 'flip', 'edition', 'enhanced', 'loadtesting', 'destiny', 'closet', 'pattern', 'state', 'horrible', 'email', 'agencies', 'job', 'key', 'group', 'taking', 'la', 'eth', 'co', 'cc', 'ce', 'li', 'ct', 'fintech', 'powered', 'slowly', 'baume', 'lonmusk', 'hmu', 'releasing', 'will', 'phishing', 'owns', 'silverlining', 'wwetlc', 'vi', 'workplaces', 'awssummitberlin', 'productivity', 'administration', 'gets', 'mont', 'iot', 'automation', 'visualanalytics', 'spitting', 'etlefschrempf', 'center', 'takeaknee', 'i', 'well', 'thought', 'digitalocean', 'latest', 'aggiekmaggiek', 'underdog', 'less', 'accurate', 'numbering', 'sofie', 'underlying', 'sky', 'vidz', 'usage', 'match', 'crushed', 'siemens', 'missuniverse', 'digitaltransformation', 'urora', 'scottkacsmar', 'like', 'header', 'ngoos', 'become', 'works', 'schlage', 'twitter', 'authority', 'hair', 'growth', 'esearchersergi', 'choosing', 'est', 'lead', 'overlay', 'literally', 'does', 'sweepstakes', 'reaching', 'ovaspec', 'pressure', 'stage', 'getting', 'universe', 'ander', 'swimming', 'own', 'weather', 'rronconi', 'stainless', 'pairing', 'noticed', 'inner', 'ullferrara', 'nterrobang', 'funds', 'brand', 'delivery', 'hi', 'officecorp', 'hd', 'he', 'count', 'made', 'temp', 'official', 'hosting', 'signed', 'stories', 'ilovela', 'display', 'mcm', 'compared', 'other', 'details', 'hpa', 'canada', 'star', 'bundle', 'ube', 'chance', 'ismsharingcontent', 'sherm', 'amp', 'samsung', 'westfield'])\n",
      "test.txt set(['wipro', '', 'all', 'gt', 'skeleton', 'chain', 'inkyfaye', 'thi', 'global', 'month', 'leads', 'ge', 'infographic', 'gb', 'grays', 'operatingsystem', 'looking', 'zone', 'lmfaooooaowokskwkskskkskskskwowkjeksksks', 'ts', 'ebweinswig', 'to', 'init', 'umass', 'th', 'lord', 'insights', 'tb', 'outube', 'mindsphere', 'egyptian', 'provider', 'putting', 'mixing', 'tuan', 'stabbed', 'screaming', 'clouds', 'companies', 'humidity', 'try', 'mm', 'fiverr', 'disc', 'ml', 'dealz', 'round', 'lackgirlhockey', 'revolution', 'force', 'core', 'trend', 'okay', 'ntgrasso', 'video', 'nbc', 'dynamics', 'estimated', 'investment', 'even', 'headset', 'what', 'sun', 'revolver', 'launch', 'current', 'seconds', 'sz', 'new', 'falling', 'scenery', 'full', 'led', 'healthcare', 'loose', 'sensehat', 'dea', 'alone', 'sing', 'every', 'search', 'dec', 'stopby', 'mixcloud', 'k', 'asa', 'missuniverse', 'pics', 'credit', 'ilovela', 'bangs', 'smoke', 'social', 'hejwittz', 'sound', 'maker', 'datadisk', 'golden', 'fantastic', 'via', 'followed', 'apple', 'extra', 'egypt', 'win', 'merely', 'boosting', 'private', 'minnesota', 'ftcommenter', 'cloud', 'use', 'would', 'army', 'blockchain', 'suppo', 'memory', 'today', 'main', 'diamond', 'knows', 'pff', 'company', 'infosec', 'leonard', 'ris', 'onopr', 'berlin', 'pfr', 'controlling', 'sora', 'ok', 'glad', 'women', 'me', 'word', 'f', 'this', 'science', 'work', 'purge', 'nine', 'solitaire', 'cam', 'learn', 'workplaces', 'making', 'herunchat', 'my', 'example', 'idusnova', 'beautiful', 'trump', 'links', 'providers', 'lolol', 'something', 'want', 'spo', 'goff', 'rescue', 'pink', 'huge', 'monitoring', 'hongkong', 'song', 'how', 'sunday', 'revs', 'beach', 'gaming', 'designer', 'cupboard', 'w', 'dxcentral', 'may', 'neat', 'reaction', 'collection', 'fa', 'wrong', 'ove', 'floral', 'verified', 'mak', 'foremost', 'data', 'a', 'paas', 'ot', 'remember', 'maybe', 'hyperx', 'amazon', 'anytime', 'think', 'q', 'green', 'alvado', 'sm', 'things', 'ichaelkistnfl', 'sucessor', 'dream', 'talk', 'vechain', 'piderofsin', 'interpretation', 'shoes', 'developed', 'using', 'move', 'mission', 'arminconnect', 'paper', 'motorcycle', 'existence', 'pethai', 'still', 'kimstim', 'uturism', 'thank', 'ynieg', 'lo', 'socialmedia', 'hot', 'winning', 'late', 'platform', 'systems', 'holiday', 'might', 'emphasize', 'team', 'band', 'not', 'rinmalaysia', 'day', 'halo', 'term', 'always', 'crypto', 'trap', 'found', 'side', 'ee', 'energy', 'positioned', 'yeah', 'group', 'anonical', 'mar', 'connect', 'year', 'navy', 'our', 'special', 'really', 'album', 'deals', 'rw', 'space', 'visetos', 'factory', 'rounds', 'rd', 'seriously', 'internet', 'cyclone', 'got', 'rh', 'sma', 'ass', 'clouding', 'unde', 'million', 'guess', 'free', 'sabremetrics', 'completely', 'base', 'california', 'ooof', 'sensors', 'wanted', 'squint', 'allocation', 'g', 'applications', 'could', 'creates', 'thing', 'circuit', 'iphon', 'kingdom', 'modaozushi', 'trickle', 'top', 'feel', 'one', 'date', 'shout', 'another', 'drones', 'ring', 'miss', 'engineer', 'little', 'heads', 'temperature', 'service', 'bios', 'leading', 'webdecelopment', 'engagement', 'girls', 'bitcoin', 'indicate', 'ezeradd', 'fought', 'storm', 'white', 'comfo', 'prong', 'lingering', 'catrionagray', 'mining', 'option', 'psyclons', 'et', 'season', 'universe', 'took', 'sign', 'digitalmarketing', 'b', 'sta', 'edition', 'project', 'ohms', 'future', 'architect', 'design', 'enabler', 'powers', 'are', 'collecting', 'fashion', 'sees', 'angel', 'hephilocypher', 'essiemau', 'eyes', 'robot', 'rap', 'need', 'appraisal', 'seem', 'st', 'any', 'gear', 'hnews', 'dolby', 'reall', 'storage', 'click', 'also', 'ealpresidentt', 'regreinha', 'take', 'predix', 'heal', 'deposit', 'oindesk', 'sure', 'multiple', 'digitalocean', 'though', 'who', 'multimeter', 'most', 'visa', 'blackmailed', 'device', 'why', 'mach', 'episode', 'catriona', 'mobile', 'consumed', 'proud', 'm', 'dog', 'km', 'socialmediamarketing', 'definitely', 'tech', 'wind', 'enterprise', 'thatgirlaly', 'xperanti', 'latest', 'microsoft', 'lying', 'sketchy', 'atmosphere', 'hyper', 'gold', 'memorandum', 'cheap', 'anyway', 'anniversary', 'bright', 'solutions', 'westfieldmall', 'font', 'effo', 'networks', 'decade', 'erohive', 'giant', 'daily', 'hopeful', 'state', 'authority', 'going', 'black', 'ethan', 'circle', 'iiot', 'laptop', 'info', 'hit', 'photography', 'datascience', 'watch', 'congratulations', 'preferred', 'autom', 'feels', 'lining', 'wedding', 'pavilion', 'midterms', 'gray', 'shared', 'embedded', 'settings', 'h', 'quinnipiac', 'teams', 'ambassades', 'imsi', 'stinger', 'ohio', 'view', 'sew', 'body', 'set', 'disaster', 'intelligence', 'typhoons', 'analytics', 'see', 'us', 'sea', 'arl', 'situation', 'raspberrypi', 'itu', 'banks', 'pattern', 'please', 'outside', 'r', 'between', 'iot', 'warrior', 'we', 'infrastructure', 'nature', 'embrace', 'antgrasso', 'agencies', 'dissipates', 'job', 'dismembered', 'wth', 'news', 'intelligent', 'come', 'received', 'c', 'cou', 'signed', 'secrets', 'mono', 'la', 's', 'und', 'highlights', 'avellom', 'whole', 'load', 'and', 'liked', 'co', 'color', 'legs', 'robotics', 'sweep', 'ce', 'header', 'exploit', 'middle', 'phethai', 'ct', 'fintech', 'powered', 'isher', 'databusiness', 'informed', 'three', 'mark', 'tropical', 'pa', 'reformat', 'po', 'alto', 'life', 'flight', 'mushroom', 'baume', 'fire', 'hmu', 'sunshine', 'great', 'induatrial', 'kids', 'understand', 'haters', 'missions', 'case', 'east', 'look', 'presidency', 'will', 'suppose', 'owns', 'sle', 'study', 'theres', 'nuther', 'stop', 'wwetlc', 'vi', 'is', 'vm', 'cio', 'oasty', 'antares', 'awssummitberlin', 'congratulat', 'im', 'lakers', 'in', 'busch', 'mercier', 'if', 'binary', 'productivity', 'pay', 'make', 'administration', 'mont', 'stepforward', 'check', 'film', 'premonition', 'sliver', 'satellite', 'published', 'rain', 'driven', 'moment', 'spitting', 'etlefschrempf', 'takeaknee', 'mention', 'i', 'well', 'magical', 'options', 'mordred', 'ismtechnology', 'tehrani', 'machinery', 'components', 'organization', 'the', 'gsm', 'ubuntu', 'left', 'just', 'less', 'photo', 'accurate', 'numbering', 'underlying', 'thanks', 'human', 'world', 'yes', 'guys', 'cut', 'tablet', 'mix', 'riswu', 'sky', 'silver', 'blog', 'vidz', 'yalls', 'potential', 'usage', 'save', 'kick', 'luxury', 'real', 'suffocation', 'pact', 'read', 'big', 'crushed', 'dark', 'siemens', 'killa', 'know', 'digitaltransformation', 'schedules', 'coinbase', 'amp', 'moa', 'you', 'advanced', 'intel', 'scottkacsmar', 'like', 'standardization', 'plated', 'server', 'shapes', 'pavement', 'continue', 'linea', 't', 'become', 'security', 'works', 'schlage', 'eternity', 'google', 'old', 'people', 'cybersecurity', 'spring', 'crown', 'dead', 'l', 'lashed', 'intern', 'growth', 'choosing', 'nzbaxar', 'peacemaker', 'phethaicyclone', 'est', 'jewelry', 'unlocked', 'literally', 'bigdata', 'ickgshitpost', 'pen', 'does', 'sneakers', 'market', 'provides', 'innovation', 'sweepstakes', 'content', 'muscat', 'be', 'giftcard', 'business', 'deleted', 'aws', 'robots', 'ovaspec', 'withdrawals', 'pressure', 'step', 'ashthefuturist', 'bp', 'thailand', 'post', 'mazon', 'on', 'central', 'necklace', 'oh', 'conceal', 'of', 'months', 'o', 'plus', 'idk', 'azure', 'connected', 'resnais', 'womens', 'other', 'software', 'outlook', 'logo', 'getting', 'down', 'duluth', 'samsung', 'rronconi', 'your', 'spending', 'chalcedony', 'pairing', 'hey', 'centurycity', 'noticed', 'zigbee', 'much', 'hea', 'ullferrara', 'labelling', 'files', 'media', 'browsing', 'complete', 'platlform', 'fundamentals', 'hp', 'paypal', 'alain', 'canopied', 'hi', 'link', 'wnw', 'hurricanes', 'with', 'buying', 'he', 'count', 'counsel', 'made', 'humbled', 'temp', 'invincible', 'official', 'stratosph', 'devices', 'dvd', 'ua', 'display', 'changbin', 'palo', 'ai', 'steady', 'ancer', 'mcm', 'deep', 'storms', 'ionosphere', 'as', 'revamps', 'marksman', 'av', 'nerd', 'shit', 'rainbow', 'compared', 'sessions', 'when', 'lonmusk', 'build', 'interested', 'sunrise', 'digital', 'sunset', 'hpa', 'nice', 'poor', 'star', 'users', 'separate', 'cybersecur', 'time', 'update', 'bundle', 'urora', 'millennial', 'ismsharingcontent', 'award', 'fisher', 'weekend', 'unlocking', 'rolls', 'algorithm', 'chrono', 'assume', 'invest', 'together', 'scream', 'smm', 'summit', 'u', 'bribe', 'international', 'westfield', 'roughly', 'original', 'dbisrl'])\n"
     ]
    }
   ],
   "source": [
    "from pybloom import BloomFilter\n",
    "import os\n",
    "import re\n",
    "\n",
    "a = {i: open('English/' + i).read() for i in os.listdir('English/')}\n",
    "b = {i: set(re.split(\"\\W+\", j.lower())) for i, j in a.items()}\n",
    "d = {}\n",
    "for i,j in b.items():\n",
    "    print i,j\n",
    "    d[i] = BloomFilter(capacity=len(j), error_rate=0.1)\n",
    "    for j in j:\n",
    "        d[i].add(j)"
   ]
  },
  {
   "cell_type": "code",
   "execution_count": 12,
   "metadata": {},
   "outputs": [
    {
     "name": "stdout",
     "output_type": "stream",
     "text": [
      "Collecting dynamic_pybloom\n",
      "  Downloading https://files.pythonhosted.org/packages/65/41/6f1daf633c94c6af1cbda1558cca4abb51f47f4caea275255fef92fefe8b/dynamic_pybloom-3.2.0.tar.gz\n",
      "Requirement already satisfied: bitarray>=0.3.4 in c:\\programdata\\anaconda2\\lib\\site-packages (from dynamic_pybloom) (0.8.1)\n",
      "Building wheels for collected packages: dynamic-pybloom\n",
      "  Running setup.py bdist_wheel for dynamic-pybloom: started\n",
      "  Running setup.py bdist_wheel for dynamic-pybloom: finished with status 'done'\n",
      "  Stored in directory: C:\\Users\\alifa\\AppData\\Local\\pip\\Cache\\wheels\\6c\\06\\76\\8cd440f60cdb93022908c75296e29b37edcf39e0dd7dd41ed2\n",
      "Successfully built dynamic-pybloom\n",
      "Installing collected packages: dynamic-pybloom\n",
      "Successfully installed dynamic-pybloom-3.2.0\n"
     ]
    }
   ],
   "source": [
    "! pip install dynamic_pybloom"
   ]
  },
  {
   "cell_type": "markdown",
   "metadata": {},
   "source": [
    "6.3 For another days worth of twitter data find the previous twitters that match in the bloom filter (This means get two days of data in one file or directory , use that data for training the bloom filter, capture a different days data in a different file ( or do it in real time)and capture the match output then running the new twitter data through the filter."
   ]
  },
  {
   "cell_type": "code",
   "execution_count": 13,
   "metadata": {},
   "outputs": [
    {
     "name": "stdout",
     "output_type": "stream",
     "text": [
      "895\n",
      "658\n"
     ]
    }
   ],
   "source": [
    "from dynamic_pybloom import ScalableBloomFilter\n",
    "obj = ScalableBloomFilter(mode=ScalableBloomFilter.SMALL_SET_GROWTH)\n",
    "\n",
    "for word in cleaned_without_stopwords:\n",
    "    obj.add(word)\n",
    "len(obj)\n",
    "m= 0\n",
    "mm = 0\n",
    "for i in cleaned_without_stopwords_1:#compares both datasets but with same keywords\n",
    "    if i in obj:\n",
    "        m += 1\n",
    "    else:\n",
    "        mm += 1\n",
    "    \n",
    "print(m)\n",
    "print(mm)"
   ]
  },
  {
   "cell_type": "markdown",
   "metadata": {},
   "source": [
    "\n",
    "6.4 Plot a historgram of matches for each twitter in 5.3"
   ]
  },
  {
   "cell_type": "code",
   "execution_count": 14,
   "metadata": {},
   "outputs": [
    {
     "data": {
      "text/plain": [
       "[Text(0,0,'Match'), Text(0,0,'mismatch')]"
      ]
     },
     "execution_count": 14,
     "metadata": {},
     "output_type": "execute_result"
    },
    {
     "data": {
      "image/png": "[encoded data removed]",
      "text/plain": [
       "<Figure size 432x288 with 1 Axes>"
      ]
     },
     "metadata": {},
     "output_type": "display_data"
    }
   ],
   "source": [
    "%matplotlib inline\n",
    "import matplotlib.pyplot as plt\n",
    "x_pos = list(range(2))\n",
    "y_pos = [m,mm]\n",
    "width = 0.4\n",
    "fig, ax = plt.subplots()\n",
    "plt.bar(x_pos, y_pos, width, alpha=1, color='b')\n",
    "\n",
    "# Setting axis labels and ticks\n",
    "ax.set_ylabel('tweet_count', fontsize=15)\n",
    "ax.set_title('Matched  vs. Unmatched in two samples', fontsize=10, fontweight='bold')\n",
    "ax.set_xticks([p + 0.2 * width for p in x_pos])\n",
    "ax.set_xticklabels(['Match', 'mismatch'])\n",
    "#plt.grid()\n",
    "#Matches are more because, I took two twitter datasets with same keywords. The second one is a smaller dataset."
   ]
  },
  {
   "cell_type": "markdown",
   "metadata": {},
   "source": [
    "## References\n",
    "\n",
    "https://pandas.pydata.org/pandas-docs/stable/generated/pandas.DataFrame.html\n",
    "\n",
    "https://pypi.python.org/pypi/pybloom/1.0.2\n",
    "\n",
    "http://nullege.com/codes/search/pybloom.ScalableBloomFilter\n",
    "\n",
    "https://axiak.github.io/pybloomfiltermmap/\n",
    "\n",
    "https://pypi.python.org/pypi/pybloomfiltermmap\n",
    "\n",
    "http://www.geeksforgeeks.org/removing-stop-words-nltk-python/\n",
    "\n",
    "https://stackoverflow.com/questions/11331982/how-to-remove-any-url-within-a-string-in-python"
   ]
  },
  {
   "cell_type": "code",
   "execution_count": null,
   "metadata": {},
   "outputs": [],
   "source": []
  }
 ],
 "metadata": {
  "kernelspec": {
   "display_name": "Python [conda env:Anaconda2]",
   "language": "python",
   "name": "conda-env-Anaconda2-py"
  },
  "language_info": {
   "codemirror_mode": {
    "name": "ipython",
    "version": 2
   },
   "file_extension": ".py",
   "mimetype": "text/x-python",
   "name": "python",
   "nbconvert_exporter": "python",
   "pygments_lexer": "ipython2",
   "version": "2.7.15"
  }
 },
 "nbformat": 4,
 "nbformat_minor": 2
}
