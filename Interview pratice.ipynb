{
 "cells": [
  {
   "cell_type": "markdown",
   "metadata": {},
   "source": [
    "## Palindrome"
   ]
  },
  {
   "cell_type": "code",
   "execution_count": 17,
   "metadata": {},
   "outputs": [],
   "source": [
    "def is_palin_perm(input_str):\n",
    "    input_str=input_str.replace(\" \",\"\")\n",
    "    input_str=input_str.lower()\n",
    "    d=dict()\n",
    "    for i in input_str:\n",
    "        if i in d:\n",
    "            d[i]+=1\n",
    "        else:\n",
    "            d[i]=1\n",
    "    odd_count=0\n",
    "    for k,v in d.items():\n",
    "        if v % 2!=0 and odd_count==0:\n",
    "            odd_count+=1\n",
    "        elif v % 2!=0 and odd_count!=0:\n",
    "            return False\n",
    "    return True\n"
   ]
  },
  {
   "cell_type": "code",
   "execution_count": 21,
   "metadata": {},
   "outputs": [
    {
     "name": "stdout",
     "output_type": "stream",
     "text": [
      "True\n"
     ]
    }
   ],
   "source": [
    "print(is_palin_perm('tactcoapapa'))"
   ]
  },
  {
   "cell_type": "code",
   "execution_count": 8,
   "metadata": {},
   "outputs": [
    {
     "name": "stdout",
     "output_type": "stream",
     "text": [
      "c\n",
      "1\n"
     ]
    }
   ],
   "source": [
    "test_dic={'c': '1'}\n",
    "for k,v in test_dic.items():\n",
    "    print(k)\n",
    "    print(v)"
   ]
  },
  {
   "cell_type": "markdown",
   "metadata": {},
   "source": [
    "## check unique"
   ]
  },
  {
   "cell_type": "code",
   "execution_count": 25,
   "metadata": {},
   "outputs": [],
   "source": [
    "def is_unique(input_str):\n",
    "    d=dict()\n",
    "    is_unique=0\n",
    "    \n",
    "    for i in input_str:\n",
    "        if i in d:\n",
    "            is_unique+=1\n",
    "        else:\n",
    "            d[i]=1\n",
    "    if is_unique >=1:\n",
    "        return False\n",
    "    else:\n",
    "        return True\n",
    "        "
   ]
  },
  {
   "cell_type": "code",
   "execution_count": 31,
   "metadata": {},
   "outputs": [
    {
     "name": "stdout",
     "output_type": "stream",
     "text": [
      "False\n"
     ]
    }
   ],
   "source": [
    "print(is_unique('akbar fani'))"
   ]
  },
  {
   "cell_type": "code",
   "execution_count": null,
   "metadata": {},
   "outputs": [],
   "source": []
  },
  {
   "cell_type": "code",
   "execution_count": 44,
   "metadata": {},
   "outputs": [],
   "source": [
    "def alternatingCharacters(s):\n",
    "    min_del_count=0\n",
    "    for i in range(1,len(s)):\n",
    "        #print(i)\n",
    "        #if i<len(s):\n",
    "        if s[i]==s[i-1]:\n",
    "                #print(\"I am \")\n",
    "            min_del_count+=1\n",
    "    return min_del_count"
   ]
  },
  {
   "cell_type": "code",
   "execution_count": 46,
   "metadata": {},
   "outputs": [
    {
     "data": {
      "text/plain": [
       "3"
      ]
     },
     "execution_count": 46,
     "metadata": {},
     "output_type": "execute_result"
    }
   ],
   "source": [
    "alternatingCharacters('AAAA')"
   ]
  },
  {
   "cell_type": "code",
   "execution_count": 38,
   "metadata": {},
   "outputs": [
    {
     "name": "stdout",
     "output_type": "stream",
     "text": [
      "3\n"
     ]
    }
   ],
   "source": [
    "print(len('ali'))"
   ]
  },
  {
   "cell_type": "code",
   "execution_count": 47,
   "metadata": {},
   "outputs": [
    {
     "data": {
      "text/plain": [
       "3.3333333333333335"
      ]
     },
     "execution_count": 47,
     "metadata": {},
     "output_type": "execute_result"
    }
   ],
   "source": [
    "10/3"
   ]
  },
  {
   "cell_type": "code",
   "execution_count": 48,
   "metadata": {},
   "outputs": [
    {
     "data": {
      "text/plain": [
       "3.3333333333333335"
      ]
     },
     "execution_count": 48,
     "metadata": {},
     "output_type": "execute_result"
    }
   ],
   "source": [
    "float(10/3)"
   ]
  },
  {
   "cell_type": "code",
   "execution_count": 49,
   "metadata": {},
   "outputs": [
    {
     "data": {
      "text/plain": [
       "3"
      ]
     },
     "execution_count": 49,
     "metadata": {},
     "output_type": "execute_result"
    }
   ],
   "source": [
    "int(10/3)"
   ]
  },
  {
   "cell_type": "code",
   "execution_count": 158,
   "metadata": {},
   "outputs": [],
   "source": [
    "def repeatedString(s, n):\n",
    "    new_str=[]\n",
    "    for i in range(0,n,len(s)):\n",
    "       # print(len(new_str))\n",
    "        for st in s:\n",
    "            if len(new_str)<n:\n",
    "                new_str.append(st)\n",
    "            #i+=1\n",
    "    #print(new_str)\n",
    "    count=0\n",
    "    for a in new_str:\n",
    "        if a=='a':\n",
    "            count+=1\n",
    "    return count"
   ]
  },
  {
   "cell_type": "code",
   "execution_count": 159,
   "metadata": {},
   "outputs": [
    {
     "data": {
      "text/plain": [
       "4"
      ]
     },
     "execution_count": 159,
     "metadata": {},
     "output_type": "execute_result"
    }
   ],
   "source": [
    "repeatedString('abcac',10)"
   ]
  },
  {
   "cell_type": "markdown",
   "metadata": {},
   "source": [
    "#  Tree traversal \n",
    "Inorder"
   ]
  },
  {
   "cell_type": "code",
   "execution_count": 86,
   "metadata": {},
   "outputs": [
    {
     "name": "stdout",
     "output_type": "stream",
     "text": [
      "[10, 14, 19, 27, 31, 35, 42]\n"
     ]
    }
   ],
   "source": [
    "class Node:\n",
    "\n",
    "    def __init__(self, data):\n",
    "\n",
    "        self.left = None\n",
    "        self.right = None\n",
    "        self.data = data\n",
    "# Insert Node\n",
    "    def insert(self, data):\n",
    "\n",
    "        if self.data:\n",
    "            if data < self.data:\n",
    "                if self.left is None:\n",
    "                    self.left = Node(data)\n",
    "                else:\n",
    "                    self.left.insert(data)\n",
    "            elif data > self.data:\n",
    "                if self.right is None:\n",
    "                    self.right = Node(data)\n",
    "                else:\n",
    "                    self.right.insert(data)\n",
    "        else:\n",
    "            self.data = data\n",
    "\n",
    "# Print the Tree\n",
    "    def PrintTree(self):\n",
    "        if self.left:\n",
    "            self.left.PrintTree()\n",
    "        print( self.data),\n",
    "        if self.right:\n",
    "            self.right.PrintTree()\n",
    "\n",
    "# Inorder traversal\n",
    "# Left -> Root -> Right\n",
    "    def inorderTraversal(self, root):\n",
    "        res = []\n",
    "        if root:\n",
    "            res = self.inorderTraversal(root.left)\n",
    "            res.append(root.data)\n",
    "            res = res + self.inorderTraversal(root.right)\n",
    "        return res\n",
    "\n",
    "root = Node(27)\n",
    "root.insert(14)\n",
    "root.insert(35)\n",
    "root.insert(10)\n",
    "root.insert(19)\n",
    "root.insert(31)\n",
    "root.insert(42)\n",
    "print(root.inorderTraversal(root))"
   ]
  },
  {
   "cell_type": "code",
   "execution_count": 83,
   "metadata": {},
   "outputs": [
    {
     "name": "stdout",
     "output_type": "stream",
     "text": [
      "10\n",
      "14\n",
      "19\n",
      "27\n",
      "31\n",
      "35\n",
      "42\n"
     ]
    }
   ],
   "source": [
    "root.PrintTree()"
   ]
  },
  {
   "cell_type": "markdown",
   "metadata": {},
   "source": [
    "## Post order"
   ]
  },
  {
   "cell_type": "code",
   "execution_count": 87,
   "metadata": {},
   "outputs": [
    {
     "name": "stdout",
     "output_type": "stream",
     "text": [
      "[27, 14, 10, 19, 35, 31, 42]\n"
     ]
    }
   ],
   "source": [
    "class Node:\n",
    "\n",
    "    def __init__(self, data):\n",
    "\n",
    "        self.left = None\n",
    "        self.right = None\n",
    "        self.data = data\n",
    "# Insert Node\n",
    "    def insert(self, data):\n",
    "\n",
    "        if self.data:\n",
    "            if data < self.data:\n",
    "                if self.left is None:\n",
    "                    self.left = Node(data)\n",
    "                else:\n",
    "                    self.left.insert(data)\n",
    "            elif data > self.data:\n",
    "                if self.right is None:\n",
    "                    self.right = Node(data)\n",
    "                else:\n",
    "                    self.right.insert(data)\n",
    "        else:\n",
    "            self.data = data\n",
    "\n",
    "# Print the Tree\n",
    "    def PrintTree(self):\n",
    "        if self.left:\n",
    "            self.left.PrintTree()\n",
    "        print( self.data),\n",
    "        if self.right:\n",
    "            self.right.PrintTree()\n",
    "\n",
    "# Preorder traversal\n",
    "# Root -> Left ->Right\n",
    "    def PreorderTraversal(self, root):\n",
    "        res = []\n",
    "        if root:\n",
    "            res.append(root.data)\n",
    "            res = res + self.PreorderTraversal(root.left)\n",
    "            res = res + self.PreorderTraversal(root.right)\n",
    "        return res\n",
    "\n",
    "root = Node(27)\n",
    "root.insert(14)\n",
    "root.insert(35)\n",
    "root.insert(10)\n",
    "root.insert(19)\n",
    "root.insert(31)\n",
    "root.insert(42)\n",
    "print(root.PreorderTraversal(root))"
   ]
  },
  {
   "cell_type": "markdown",
   "metadata": {},
   "source": [
    "## POST ORDER"
   ]
  },
  {
   "cell_type": "code",
   "execution_count": 89,
   "metadata": {},
   "outputs": [
    {
     "name": "stdout",
     "output_type": "stream",
     "text": [
      "[10, 19, 14, 31, 42, 35, 27]\n"
     ]
    }
   ],
   "source": [
    "class Node:\n",
    "\n",
    "    def __init__(self, data):\n",
    "\n",
    "        self.left = None\n",
    "        self.right = None\n",
    "        self.data = data\n",
    "# Insert Node\n",
    "    def insert(self, data):\n",
    "\n",
    "        if self.data:\n",
    "            if data < self.data:\n",
    "                if self.left is None:\n",
    "                    self.left = Node(data)\n",
    "                else:\n",
    "                    self.left.insert(data)\n",
    "            elif data > self.data:\n",
    "                if self.right is None:\n",
    "                    self.right = Node(data)\n",
    "                else:\n",
    "                    self.right.insert(data)\n",
    "        else:\n",
    "            self.data = data\n",
    "\n",
    "# Print the Tree\n",
    "    def PrintTree(self):\n",
    "        if self.left:\n",
    "            self.left.PrintTree()\n",
    "        print( self.data),\n",
    "        if self.right:\n",
    "            self.right.PrintTree()\n",
    "\n",
    "# Postorder traversal\n",
    "# Left ->Right -> Root\n",
    "    def PostorderTraversal(self, root):\n",
    "        res = []\n",
    "        if root:\n",
    "            res = self.PostorderTraversal(root.left)\n",
    "            res = res + self.PostorderTraversal(root.right)\n",
    "            res.append(root.data)\n",
    "        return res\n",
    "\n",
    "root = Node(27)\n",
    "root.insert(14)\n",
    "root.insert(35)\n",
    "root.insert(10)\n",
    "root.insert(19)\n",
    "root.insert(31)\n",
    "root.insert(42)\n",
    "print(root.PostorderTraversal(root))"
   ]
  },
  {
   "cell_type": "markdown",
   "metadata": {},
   "source": [
    "## One Away"
   ]
  },
  {
   "cell_type": "code",
   "execution_count": 111,
   "metadata": {},
   "outputs": [],
   "source": [
    "def oneEditAway(str1,str2):\n",
    "    if len(str1)==len(str2):\n",
    "        return oneEditReplace(str1,str2)\n",
    "    elif (len(str1)+1)==len(str2):\n",
    "        return oneEditInsert(str1,str2)\n",
    "    elif (len(str1)-1)==len(str2):\n",
    "        return oneEditInsert(str2,str1)\n",
    "    return False   "
   ]
  },
  {
   "cell_type": "code",
   "execution_count": 112,
   "metadata": {},
   "outputs": [],
   "source": [
    "def oneEditReplace(s1,s2):\n",
    "    foundDifferece=False\n",
    "    for i in range(len(s1)):\n",
    "        if s1[i]!=s2[i]:\n",
    "            if foundDifferece:\n",
    "                return False\n",
    "        foundDifference=True\n",
    "    return True"
   ]
  },
  {
   "cell_type": "code",
   "execution_count": 113,
   "metadata": {},
   "outputs": [],
   "source": [
    "def oneEditInsert(s1,s2):\n",
    "    index1=0\n",
    "    index2=0\n",
    "    while(index2<len(s2) and index1<len(s1)):\n",
    "        if(s1[index1]!=s2[index2]):\n",
    "            if index1 !=index2:\n",
    "                return False\n",
    "            index2+=1\n",
    "        else:\n",
    "            index1+=1\n",
    "            index2+=1\n",
    "    return True\n"
   ]
  },
  {
   "cell_type": "code",
   "execution_count": 114,
   "metadata": {},
   "outputs": [
    {
     "data": {
      "text/plain": [
       "True"
      ]
     },
     "execution_count": 114,
     "metadata": {},
     "output_type": "execute_result"
    }
   ],
   "source": [
    "oneEditAway('apple','aple')"
   ]
  },
  {
   "cell_type": "code",
   "execution_count": 212,
   "metadata": {},
   "outputs": [],
   "source": [
    "def compressbad(string_new):\n",
    "    res=[]\n",
    "    cnt=0\n",
    "    prev=string_new[0]\n",
    "    for char in string_new:\n",
    "        if char==prev:\n",
    "            cnt += 1\n",
    "        else:\n",
    "            res+=prev+str(cnt)\n",
    "            prev=char\n",
    "            cnt=1\n",
    "    res += char + str(cnt)\n",
    "    res=''.join(res)\n",
    "    if len(res)>len(string_new):\n",
    "        return string_new\n",
    "    else:\n",
    "        return res\n",
    "    #print(res)"
   ]
  },
  {
   "cell_type": "code",
   "execution_count": 213,
   "metadata": {},
   "outputs": [
    {
     "name": "stdout",
     "output_type": "stream",
     "text": [
      "a2b3c31\n"
     ]
    }
   ],
   "source": [
    "print(compressbad('aabbbccccccccccccccccccccccccccccccc'))"
   ]
  },
  {
   "cell_type": "markdown",
   "metadata": {},
   "source": [
    "## Sherlock Strings valid hackerrank"
   ]
  },
  {
   "cell_type": "code",
   "execution_count": 233,
   "metadata": {},
   "outputs": [],
   "source": [
    "def isValid(s):\n",
    "    d=dict()\n",
    "    for char in s:\n",
    "        if char in d:\n",
    "            d[char]+=1\n",
    "        else:\n",
    "            d[char]=1\n",
    "    value=[]\n",
    "    for k,v in d.items():\n",
    "        value.append(v)\n",
    "    print(value)\n",
    "    index1=0\n",
    "    index2=1\n",
    "    founddif=False\n",
    "    while(index1<len(value) and index2<len(value)):\n",
    "        if value[index1]!=value[index2] and abs(value[index1]-value[index2]==1):\n",
    "            if founddif==False:\n",
    "                founddif=True\n",
    "            else:\n",
    "                return False\n",
    "        \n",
    "        elif value[index1]!=value[index2] and abs(value[index1]-value[index2]>1):\n",
    "            return False\n",
    "        \n",
    "        index1+=1\n",
    "        index2+=1\n",
    "    \n",
    "    return True"
   ]
  },
  {
   "cell_type": "code",
   "execution_count": 234,
   "metadata": {},
   "outputs": [
    {
     "name": "stdout",
     "output_type": "stream",
     "text": [
      "[2, 2, 1, 1]\n"
     ]
    },
    {
     "data": {
      "text/plain": [
       "True"
      ]
     },
     "execution_count": 234,
     "metadata": {},
     "output_type": "execute_result"
    }
   ],
   "source": [
    "isValid('aabbcd')"
   ]
  },
  {
   "cell_type": "code",
   "execution_count": 222,
   "metadata": {},
   "outputs": [
    {
     "ename": "SyntaxError",
     "evalue": "'return' outside function (<ipython-input-222-f344921d3294>, line 9)",
     "output_type": "error",
     "traceback": [
      "\u001b[1;36m  File \u001b[1;32m\"<ipython-input-222-f344921d3294>\"\u001b[1;36m, line \u001b[1;32m9\u001b[0m\n\u001b[1;33m    return False\u001b[0m\n\u001b[1;37m    ^\u001b[0m\n\u001b[1;31mSyntaxError\u001b[0m\u001b[1;31m:\u001b[0m 'return' outside function\n"
     ]
    }
   ],
   "source": [
    "index1=0\n",
    "index2=1\n",
    "founddif=False\n",
    "while(index1<len(value) and index2<len(value)):\n",
    "    if value[index1]!=value[index2] and abs(value[index1]-value[index2]==1):\n",
    "        if founddif==False:\n",
    "            founddif=True\n",
    "        else:\n",
    "            return False\n",
    "        \n",
    "    elif value[index1]!=value[index2] and abs(value[index1]-value[index2]>1):\n",
    "        return False\n",
    "    else:\n",
    "        return True"
   ]
  },
  {
   "cell_type": "code",
   "execution_count": 219,
   "metadata": {},
   "outputs": [
    {
     "data": {
      "text/plain": [
       "1"
      ]
     },
     "execution_count": 219,
     "metadata": {},
     "output_type": "execute_result"
    }
   ],
   "source": [
    "abs(2-3)"
   ]
  },
  {
   "cell_type": "markdown",
   "metadata": {},
   "source": [
    "#  Final Solution"
   ]
  },
  {
   "cell_type": "code",
   "execution_count": 163,
   "metadata": {},
   "outputs": [
    {
     "name": "stdout",
     "output_type": "stream",
     "text": [
      "Counter({'a': 4, 'b': 2, 'c': 2})\n",
      "Counter({2: 2, 4: 1})\n",
      "1\n",
      "YES\n"
     ]
    }
   ],
   "source": [
    "from collections import Counter\n",
    " \n",
    " \n",
    "def isValid(S):\n",
    "    char_map = Counter(S)\n",
    "    print(char_map)\n",
    "    char_occurence_map = Counter(char_map.values())\n",
    "    print(char_occurence_map)\n",
    "    if len(char_occurence_map) == 1:\n",
    "        return True\n",
    " \n",
    "    if len(char_occurence_map) == 2:\n",
    "        for v in char_occurence_map.values():\n",
    "            print(v)\n",
    "            if v == 1:\n",
    "                return True\n",
    " \n",
    "    return False\n",
    " \n",
    " \n",
    "S='aaaabbcc'\n",
    "if isValid(S):\n",
    "    print (\"YES\")\n",
    "else:\n",
    "    print (\"NO\")\n"
   ]
  },
  {
   "cell_type": "code",
   "execution_count": 241,
   "metadata": {},
   "outputs": [
    {
     "name": "stdout",
     "output_type": "stream",
     "text": [
      "Counter({'e': 3, 'a': 2, 'b': 2, 'c': 2, 'd': 2, 'f': 2, 'g': 2, 'h': 2})\n",
      "Counter({2: 7, 3: 1})\n",
      "7\n",
      "1\n"
     ]
    },
    {
     "data": {
      "text/plain": [
       "True"
      ]
     },
     "execution_count": 241,
     "metadata": {},
     "output_type": "execute_result"
    }
   ],
   "source": [
    "isValid('abcdefghhgfedecba')"
   ]
  },
  {
   "cell_type": "code",
   "execution_count": 261,
   "metadata": {},
   "outputs": [
    {
     "name": "stdout",
     "output_type": "stream",
     "text": [
      "aabbbb\n",
      "[2, 4]\n",
      "NO\n"
     ]
    }
   ],
   "source": [
    "import collections\n",
    "\n",
    "s = input().strip()\n",
    "freq = collections.Counter(s)\n",
    "values = list(freq.values())\n",
    "print(values)\n",
    "values.sort()\n",
    "print('YES' if values.count(values[0]) == len(values) or (values.count(values[0]) == len(values) - 1 and values[-1] - values[-2] == 1) or (values.count(values[-1]) == len(values) - 1 and values[0] == 1) else 'NO')"
   ]
  },
  {
   "cell_type": "code",
   "execution_count": null,
   "metadata": {},
   "outputs": [],
   "source": [
    "or (values.count(values[-1]) == len(values) - 1 and values[0] == 1) \n",
    "else 'NO'"
   ]
  },
  {
   "cell_type": "code",
   "execution_count": 259,
   "metadata": {},
   "outputs": [
    {
     "data": {
      "text/plain": [
       "2"
      ]
     },
     "execution_count": 259,
     "metadata": {},
     "output_type": "execute_result"
    }
   ],
   "source": [
    "values.count(values[0])"
   ]
  },
  {
   "cell_type": "code",
   "execution_count": 271,
   "metadata": {},
   "outputs": [],
   "source": [
    "def isValid(S):\n",
    "\n",
    "    #s = input().strip()\n",
    "    freq = Counter(S)\n",
    "    values = list(freq.values())\n",
    "    print(values)\n",
    "    values.sort()\n",
    "    if values.count(values[0]) == len(values) or (values.count(values[0]) == len(values) - 1 and values[-1] - values[-2] == 1):\n",
    "        print('iam here')\n",
    "        return True\n",
    "    elif (values.count(values[-1]) == len(values) - 1 and values[0] == 1):\n",
    "        print('here')\n",
    "        return True\n",
    "    else:\n",
    "        return False"
   ]
  },
  {
   "cell_type": "code",
   "execution_count": 274,
   "metadata": {},
   "outputs": [
    {
     "name": "stdout",
     "output_type": "stream",
     "text": [
      "1\n"
     ]
    }
   ],
   "source": [
    "print(values.count(values[0]))"
   ]
  },
  {
   "cell_type": "code",
   "execution_count": 272,
   "metadata": {},
   "outputs": [
    {
     "name": "stdout",
     "output_type": "stream",
     "text": [
      "[3, 4]\n",
      "iam here\n"
     ]
    },
    {
     "data": {
      "text/plain": [
       "True"
      ]
     },
     "execution_count": 272,
     "metadata": {},
     "output_type": "execute_result"
    }
   ],
   "source": [
    "isValid('aaabbbb')"
   ]
  },
  {
   "cell_type": "code",
   "execution_count": 270,
   "metadata": {},
   "outputs": [
    {
     "name": "stdout",
     "output_type": "stream",
     "text": [
      "[2, 3]\n",
      "iam here\n"
     ]
    },
    {
     "data": {
      "text/plain": [
       "True"
      ]
     },
     "execution_count": 270,
     "metadata": {},
     "output_type": "execute_result"
    }
   ],
   "source": [
    "isValid('aabbb')"
   ]
  },
  {
   "cell_type": "code",
   "execution_count": 273,
   "metadata": {},
   "outputs": [
    {
     "name": "stdout",
     "output_type": "stream",
     "text": [
      "[4, 2, 2]\n"
     ]
    },
    {
     "data": {
      "text/plain": [
       "False"
      ]
     },
     "execution_count": 273,
     "metadata": {},
     "output_type": "execute_result"
    }
   ],
   "source": [
    "isValid('aaaabbcc')"
   ]
  },
  {
   "cell_type": "code",
   "execution_count": 282,
   "metadata": {},
   "outputs": [],
   "source": [
    "def CountSpecialPalindrome(str): \n",
    "    n = len(str); \n",
    "  \n",
    "    # store count of special \n",
    "    # Palindromic substring \n",
    "    result = 0; \n",
    "  \n",
    "    # it will store the count  \n",
    "    # of continues same char \n",
    "    sameChar=[0] * n; \n",
    "    print(sameChar)\n",
    "  \n",
    "    i = 0; \n",
    "  \n",
    "    # traverse string character  \n",
    "    # from left to right \n",
    "    while (i < n): \n",
    "  \n",
    "        # store same character count \n",
    "        sameCharCount = 1; \n",
    "  \n",
    "        j = i + 1; \n",
    "  \n",
    "        # count smiler character \n",
    "        while (j < n): \n",
    "            if(str[i] != str[j]): \n",
    "                break; \n",
    "            sameCharCount += 1; \n",
    "            j += 1; \n",
    "          \n",
    "        # Case : 1 \n",
    "        # so total number of substring  \n",
    "        # that we can generate are : \n",
    "        # K *( K + 1 ) / 2 \n",
    "        # here K is sameCharCount \n",
    "        result += int(sameCharCount * \n",
    "                     (sameCharCount + 1) / 2); \n",
    "        print(\"result{}\".format(result))\n",
    "        # store current same char  \n",
    "        # count in sameChar[] array \n",
    "        sameChar[i] = sameCharCount; \n",
    "        print(sameChar)\n",
    "        # increment i \n",
    "        i = j; \n",
    "  \n",
    "    # Case 2: Count all odd length  \n",
    "    # Special Palindromic substring \n",
    "    for j in range(1, n): \n",
    "          \n",
    "        # if current character is equal  \n",
    "        # to previous one then we assign  \n",
    "        # Previous same character count  \n",
    "        # to current one \n",
    "        if (str[j] == str[j - 1]): \n",
    "            sameChar[j] = sameChar[j - 1]; \n",
    "  \n",
    "        # case 2: odd length \n",
    "        if (j > 0 and j < (n - 1) and \n",
    "           (str[j - 1] == str[j + 1] and \n",
    "            str[j] != str[j - 1])): \n",
    "            result += (sameChar[j - 1] \n",
    "                    if(sameChar[j - 1] < sameChar[j + 1])  \n",
    "                    else sameChar[j + 1]); \n",
    "  \n",
    "    # subtract all single \n",
    "    # length substring \n",
    "    return result-n; "
   ]
  },
  {
   "cell_type": "code",
   "execution_count": 285,
   "metadata": {},
   "outputs": [
    {
     "name": "stdout",
     "output_type": "stream",
     "text": [
      "[0, 0, 0, 0, 0, 0, 0, 0]\n",
      "result3\n",
      "[2, 0, 0, 0, 0, 0, 0, 0]\n",
      "result4\n",
      "[2, 0, 1, 0, 0, 0, 0, 0]\n",
      "result5\n",
      "[2, 0, 1, 1, 0, 0, 0, 0]\n",
      "result6\n",
      "[2, 0, 1, 1, 1, 0, 0, 0]\n",
      "result7\n",
      "[2, 0, 1, 1, 1, 1, 0, 0]\n",
      "result8\n",
      "[2, 0, 1, 1, 1, 1, 1, 0]\n",
      "result9\n",
      "[2, 0, 1, 1, 1, 1, 1, 1]\n"
     ]
    },
    {
     "data": {
      "text/plain": [
       "4"
      ]
     },
     "execution_count": 285,
     "metadata": {},
     "output_type": "execute_result"
    }
   ],
   "source": [
    "CountSpecialPalindrome('aabcbaba')"
   ]
  },
  {
   "cell_type": "code",
   "execution_count": 284,
   "metadata": {},
   "outputs": [
    {
     "name": "stdout",
     "output_type": "stream",
     "text": [
      "[0, 0, 0, 0, 0]\n",
      "result1\n",
      "[1, 0, 0, 0, 0]\n",
      "result2\n",
      "[1, 1, 0, 0, 0]\n",
      "result3\n",
      "[1, 1, 1, 0, 0]\n",
      "result4\n",
      "[1, 1, 1, 1, 0]\n",
      "result5\n",
      "[1, 1, 1, 1, 1]\n"
     ]
    },
    {
     "data": {
      "text/plain": [
       "2"
      ]
     },
     "execution_count": 284,
     "metadata": {},
     "output_type": "execute_result"
    }
   ],
   "source": [
    "CountSpecialPalindrome('asasd')"
   ]
  },
  {
   "cell_type": "code",
   "execution_count": 299,
   "metadata": {},
   "outputs": [
    {
     "name": "stdout",
     "output_type": "stream",
     "text": [
      "19\n"
     ]
    }
   ],
   "source": [
    "arr=[[1, 1, 1, 0, 0, 0], [0, 1, 0, 0, 0, 0], [1, 1, 1, 0, 0, 0], [0, 0, 2, 4, 4, 0], [0, 0, 0, 2, 0, 0], [0, 0, 1, 2, 4, 0]]\n",
    "max_hourglass_sum=-63\n",
    "#current_hourglass_sum=-20\n",
    "for i in range(1,5):\n",
    "    for j in range(1,5):\n",
    "        current_hourglass_sum=get_hourglass_sum(arr,i,j)\n",
    "        if current_hourglass_sum > max_hourglass_sum:\n",
    "            max_hourglass_sum=current_hourglass_sum\n",
    "        else:\n",
    "            pass\n",
    "print(max_hourglass_sum)"
   ]
  },
  {
   "cell_type": "code",
   "execution_count": 298,
   "metadata": {},
   "outputs": [],
   "source": [
    "def get_hourglass_sum(matrix,row,col):\n",
    "    sum=0\n",
    "    sum+=matrix[row-1][col-1]\n",
    "    sum+=matrix[row-1][col]\n",
    "    sum+=matrix[row-1][col+1]\n",
    "    sum+=matrix[row][col]\n",
    "    sum+=matrix[row+1][col-1]\n",
    "    sum+=matrix[row+1][col]\n",
    "    sum+=matrix[row+1][col+1]\n",
    "    return sum"
   ]
  },
  {
   "cell_type": "markdown",
   "metadata": {},
   "source": [
    "## HackerRank NEw year Chaos"
   ]
  },
  {
   "cell_type": "code",
   "execution_count": 5,
   "metadata": {},
   "outputs": [],
   "source": [
    "def minimumBribes(q):\n",
    "    print(q)\n",
    "    sorted_q=q.sort()\n",
    "    print(sorted(q))"
   ]
  },
  {
   "cell_type": "code",
   "execution_count": 6,
   "metadata": {},
   "outputs": [
    {
     "name": "stdout",
     "output_type": "stream",
     "text": [
      "[2, 1, 4, 5]\n",
      "[1, 2, 4, 5]\n"
     ]
    }
   ],
   "source": [
    "q=[2,1,4,5]\n",
    "minimumBribes(q)"
   ]
  },
  {
   "cell_type": "code",
   "execution_count": 7,
   "metadata": {},
   "outputs": [],
   "source": [
    "def minimumBribes(q):\n",
    "    sorted_q=sorted(q)\n",
    "    min_bribes=0\n",
    "    chaotic_flag=False\n",
    "    for i in range(len(sorted_q)):\n",
    "        for j in range(len(q)):\n",
    "            if q[j]==sorted_q[i] and j<i:\n",
    "                dif=abs(i-j)\n",
    "                if dif==1:\n",
    "                    min_bribes+=1\n",
    "                elif dif==2:\n",
    "                    min_bribes+=2\n",
    "                elif dif>=3:\n",
    "                    chaotic_flag=True\n",
    "    if(chaotic_flag):\n",
    "        print('Too chaotic')\n",
    "    else:\n",
    "        print(min_bribes)"
   ]
  },
  {
   "cell_type": "code",
   "execution_count": 8,
   "metadata": {},
   "outputs": [
    {
     "name": "stdout",
     "output_type": "stream",
     "text": [
      "6\n"
     ]
    }
   ],
   "source": [
    "minimumBribes([1,2,5,3,7,8,6,4])"
   ]
  },
  {
   "cell_type": "code",
   "execution_count": null,
   "metadata": {},
   "outputs": [],
   "source": []
  },
  {
   "cell_type": "code",
   "execution_count": null,
   "metadata": {},
   "outputs": [],
   "source": []
  },
  {
   "cell_type": "markdown",
   "metadata": {},
   "source": [
    "## New year chaos final solution"
   ]
  },
  {
   "cell_type": "code",
   "execution_count": 164,
   "metadata": {},
   "outputs": [],
   "source": [
    "def minimumBribes(q):\n",
    "    #a=[1,2,5,3,7,8,6,4]\n",
    "    t=len(q)\n",
    "    swaps = [0] * t\n",
    "\n",
    "    swapped = True\n",
    "\n",
    "    while swapped:\n",
    "        swapped = False\n",
    "\n",
    "        for i in range(t):\n",
    "            while i < t - 1 and q[i] > q[i + 1]:\n",
    "                #print(a)\n",
    "                #print(a[i])\n",
    "                swaps[q[i] - 1] += 1\n",
    "                #print(swaps)\n",
    "                q[i], q[i + 1] = q[i + 1], q[i]\n",
    "                #print(a)\n",
    "                swapped = True\n",
    "                i += 1\n",
    "\n",
    "    s = 0\n",
    "    chaotic_flag=False\n",
    "    #print (swaps)\n",
    "    for swap in swaps:\n",
    "        if swap > 2:\n",
    "            chaotic_flag=True    \n",
    "        s += swap    \n",
    "            \n",
    "    if chaotic_flag:\n",
    "        print('Too chaotic')\n",
    "    else:\n",
    "        print(s)        \n",
    "\n"
   ]
  },
  {
   "cell_type": "markdown",
   "metadata": {},
   "source": [
    "# Mackenzie coding challenge"
   ]
  },
  {
   "cell_type": "code",
   "execution_count": 24,
   "metadata": {},
   "outputs": [
    {
     "data": {
      "text/plain": [
       "['organisation1', '20180910']"
      ]
     },
     "execution_count": 24,
     "metadata": {},
     "output_type": "execute_result"
    }
   ],
   "source": [
    "s='user1@organisation1.com20180910'\n",
    "new_s=s.split('@')\n",
    "new_s[1].split('.com')"
   ]
  },
  {
   "cell_type": "code",
   "execution_count": 49,
   "metadata": {},
   "outputs": [
    {
     "name": "stdout",
     "output_type": "stream",
     "text": [
      "20180912\n"
     ]
    }
   ],
   "source": [
    "s=['user1@organisation1.com20180910','user1@organisation1.com20180912','user1@organisation1.com20180912','user1@organisation1.com20180912']\n",
    "domain='organisation1.com'\n",
    "unstructure_log(s,domain)"
   ]
  },
  {
   "cell_type": "code",
   "execution_count": 48,
   "metadata": {},
   "outputs": [],
   "source": [
    "def unstructure_log(list_domain,dom):\n",
    "    dictionary_new=dict()\n",
    "    query_dom=dom.split('.com')\n",
    "    query_dom=query_dom[0]\n",
    "    for d in range(len(list_domain)):\n",
    "        new_log_dom=list_domain[d].split('@')\n",
    "        domain_organis=new_log_dom[1].split('.com')\n",
    "        domain_organis_final=domain_organis[0]\n",
    "        #print(domain_organis_final)\n",
    "        #print(dom.split('.com'))\n",
    "        if domain_organis_final==query_dom:\n",
    "            if domain_organis[1] in dictionary_new:\n",
    "                dictionary_new[domain_organis[1]]+=1\n",
    "            else:\n",
    "                dictionary_new[domain_organis[1]]=1\n",
    "    value=0\n",
    "    date_key=0\n",
    "    for k,v in dictionary_new.items():\n",
    "        date_key=k\n",
    "        value=v\n",
    "        if v>value:\n",
    "            value=v\n",
    "            date_key=k\n",
    "    print(date_key)"
   ]
  },
  {
   "cell_type": "code",
   "execution_count": 51,
   "metadata": {},
   "outputs": [
    {
     "name": "stdout",
     "output_type": "stream",
     "text": [
      "20180910\n"
     ]
    }
   ],
   "source": [
    "new_log_date=['user1@organisation1.com20180910','user3@organisation1.com20180912','user4@organisation1.com20180912','user2@organisation2.com20180912','user2@organisation1.com20180911','user4@organisation2.com20180912','user5@organisation2.com20180910','user6@organisation2.com20180910','user2@organisation1.com20180910']\n",
    "domain_value='organisation2.com'\n",
    "unstructure_log(new_log_date,domain_value)"
   ]
  },
  {
   "cell_type": "markdown",
   "metadata": {},
   "source": [
    "## bubble sort"
   ]
  },
  {
   "cell_type": "code",
   "execution_count": 52,
   "metadata": {},
   "outputs": [],
   "source": [
    "def countSwaps(a):\n",
    "    size=len(a)\n",
    "    \n",
    "    swap=0\n",
    "    for p in range(len(a)):\n",
    "        for j in range(len(a)-1):\n",
    "            if a[j] > a[j+1]:\n",
    "                temp=a[j]\n",
    "                a[j]=a[j+1]\n",
    "                a[j+1]=temp\n",
    "                swap+=1\n",
    "    print('Array is sorted in {} swaps.'.format(swap))\n",
    "    print('First Element: {}'.format(a[0]))\n",
    "    print('Last Element: {}'.format(a[-1]))"
   ]
  },
  {
   "cell_type": "code",
   "execution_count": 55,
   "metadata": {},
   "outputs": [
    {
     "name": "stdout",
     "output_type": "stream",
     "text": [
      "['b', 'a', 'd', 'e', 'c', 'f', 'a']\n",
      "Array is sorted in 8 swaps.\n",
      "First Element: a\n",
      "Last Element: f\n"
     ]
    }
   ],
   "source": [
    "l='badecfa'\n",
    "new_list=list(l)\n",
    "print(new_list)\n",
    "countSwaps(new_list)"
   ]
  },
  {
   "cell_type": "code",
   "execution_count": 56,
   "metadata": {},
   "outputs": [],
   "source": [
    "from functools import cmp_to_key"
   ]
  },
  {
   "cell_type": "code",
   "execution_count": 61,
   "metadata": {},
   "outputs": [
    {
     "name": "stdout",
     "output_type": "stream",
     "text": [
      "[[0], [1], [2], [3], [4]]\n"
     ]
    }
   ],
   "source": [
    "d=[]\n",
    "for x in range(5):\n",
    "    new_d=[]\n",
    "    new_d.append(x)\n",
    "    d.append(new_d)\n",
    "print(d)"
   ]
  },
  {
   "cell_type": "code",
   "execution_count": 74,
   "metadata": {},
   "outputs": [],
   "source": [
    "def second_smallest(numbers):\n",
    "    m1, m2 = float('inf'), float('inf')\n",
    "    print(m1)\n",
    "    print(m2)\n",
    "    for x in numbers:\n",
    "        if x <= m1:\n",
    "            m1, m2 = x, m1\n",
    "            print(m1)\n",
    "            print(\"value {}\".format(m2))\n",
    "        elif x < m2:\n",
    "            m2 = x\n",
    "            print(m2)\n",
    "    return m2"
   ]
  },
  {
   "cell_type": "code",
   "execution_count": 75,
   "metadata": {},
   "outputs": [
    {
     "name": "stdout",
     "output_type": "stream",
     "text": [
      "inf\n",
      "inf\n",
      "2\n",
      "value inf\n",
      "3\n",
      "1\n",
      "value 2\n"
     ]
    },
    {
     "data": {
      "text/plain": [
       "2"
      ]
     },
     "execution_count": 75,
     "metadata": {},
     "output_type": "execute_result"
    }
   ],
   "source": [
    "second_smallest([2,3,1,4])"
   ]
  },
  {
   "cell_type": "markdown",
   "metadata": {},
   "source": [
    "### Sherlocks and anagrams"
   ]
  },
  {
   "cell_type": "code",
   "execution_count": 169,
   "metadata": {},
   "outputs": [],
   "source": [
    "def sherlockAndAnagrams(s):\n",
    "    n=len(s)\n",
    "    #print(n)\n",
    "    res=0\n",
    "    for l in range(1, n):\n",
    "        cnt = {}\n",
    "        for i in range(n - l + 1):\n",
    "            subs = list(s[i:i + l])\n",
    "            print(subs)\n",
    "            subs.sort()\n",
    "            subs = ''.join(subs)\n",
    "            if subs in cnt:\n",
    "                cnt[subs] += 1\n",
    "            else:\n",
    "                cnt[subs] = 1\n",
    "            res += cnt[subs] - 1\n",
    "            print(res)\n",
    "            print(cnt)\n",
    "\n",
    "    return (res)"
   ]
  },
  {
   "cell_type": "code",
   "execution_count": 170,
   "metadata": {},
   "outputs": [
    {
     "name": "stdout",
     "output_type": "stream",
     "text": [
      "['a']\n",
      "0\n",
      "{'a': 1}\n",
      "['b']\n",
      "0\n",
      "{'a': 1, 'b': 1}\n",
      "['b']\n",
      "1\n",
      "{'a': 1, 'b': 2}\n",
      "['a']\n",
      "2\n",
      "{'a': 2, 'b': 2}\n",
      "['a', 'b']\n",
      "2\n",
      "{'ab': 1}\n",
      "['b', 'b']\n",
      "2\n",
      "{'ab': 1, 'bb': 1}\n",
      "['b', 'a']\n",
      "3\n",
      "{'ab': 2, 'bb': 1}\n",
      "['a', 'b', 'b']\n",
      "3\n",
      "{'abb': 1}\n",
      "['b', 'b', 'a']\n",
      "4\n",
      "{'abb': 2}\n"
     ]
    },
    {
     "data": {
      "text/plain": [
       "4"
      ]
     },
     "execution_count": 170,
     "metadata": {},
     "output_type": "execute_result"
    }
   ],
   "source": [
    "sherlockAndAnagrams('abba')"
   ]
  },
  {
   "cell_type": "code",
   "execution_count": null,
   "metadata": {},
   "outputs": [],
   "source": []
  },
  {
   "cell_type": "code",
   "execution_count": 91,
   "metadata": {},
   "outputs": [],
   "source": [
    "def sum_two(nums,target):\n",
    "    for i in range(len(nums)):\n",
    "        for j in range(i+1,len(nums)):\n",
    "            temp=nums[i]+nums[j]\n",
    "            if temp==target:\n",
    "                new_list=[]\n",
    "                new_list.append(i)\n",
    "                new_list.append(j)\n",
    "                return new_list"
   ]
  },
  {
   "cell_type": "code",
   "execution_count": 92,
   "metadata": {},
   "outputs": [
    {
     "data": {
      "text/plain": [
       "[1, 2]"
      ]
     },
     "execution_count": 92,
     "metadata": {},
     "output_type": "execute_result"
    }
   ],
   "source": [
    "sum_two([2,5,5,11],10)"
   ]
  },
  {
   "cell_type": "markdown",
   "metadata": {},
   "source": [
    "### Leetcode adding two linked list in python"
   ]
  },
  {
   "cell_type": "code",
   "execution_count": 93,
   "metadata": {},
   "outputs": [],
   "source": [
    "class Solution:\n",
    "    def addTwoNumbers(self, l1, l2):\n",
    "        \"\"\"\n",
    "        :type l1: ListNode\n",
    "        :type l2: ListNode\n",
    "        :rtype: ListNode\n",
    "        \"\"\"\n",
    "        result = ListNode(0)\n",
    "        #print(result.val)\n",
    "        result_tail = result\n",
    "        carry = 0\n",
    "                \n",
    "        while l1 or l2 or carry:            \n",
    "            val1  = (l1.val if l1 else 0)\n",
    "            val2  = (l2.val if l2 else 0)\n",
    "            #print(val1)\n",
    "            #print(val2)\n",
    "            carry, out = divmod(val1+val2 + carry, 10)    \n",
    "            #print(carry)\n",
    "            #print(out)\n",
    "            result_tail.next = ListNode(out)\n",
    "            result_tail = result_tail.next                      \n",
    "            \n",
    "            l1 = (l1.next if l1 else None)\n",
    "            l2 = (l2.next if l2 else None)\n",
    "               \n",
    "        return result.next"
   ]
  },
  {
   "cell_type": "code",
   "execution_count": 94,
   "metadata": {},
   "outputs": [
    {
     "data": {
      "text/plain": [
       "{'a', 'b', 'c'}"
      ]
     },
     "execution_count": 94,
     "metadata": {},
     "output_type": "execute_result"
    }
   ],
   "source": [
    "a='abcaba'\n",
    "set(a)"
   ]
  },
  {
   "cell_type": "markdown",
   "metadata": {},
   "source": [
    "### longest subsrting of non repeated charcters"
   ]
  },
  {
   "cell_type": "code",
   "execution_count": 109,
   "metadata": {},
   "outputs": [],
   "source": [
    "def lengthOfLongestSubstring(word):\n",
    "    if not word: return 0\n",
    "\n",
    "    currentLength = 1\n",
    "    longest = 1\n",
    "    last_seen = {word[0] : 0}\n",
    "    print(last_seen)\n",
    "    i = 1\n",
    "\n",
    "    while i < len(word):\n",
    "        letter = word[i]\n",
    "        if letter in last_seen:\n",
    "            i = last_seen[letter] + 1\n",
    "            print(i)\n",
    "            last_seen.clear()\n",
    "            longest = max(longest, currentLength)\n",
    "            currentLength = 0\n",
    "        else:\n",
    "            last_seen[letter] = i\n",
    "            currentLength += 1\n",
    "            i += 1\n",
    "            print(last_seen)\n",
    "\n",
    "    longest = max(longest, currentLength)\n",
    "\n",
    "    return longest"
   ]
  },
  {
   "cell_type": "code",
   "execution_count": 111,
   "metadata": {},
   "outputs": [
    {
     "name": "stdout",
     "output_type": "stream",
     "text": [
      "{'p': 0}\n",
      "{'p': 0, 'w': 1}\n",
      "2\n",
      "{'w': 2}\n",
      "{'w': 2, 'k': 3}\n",
      "{'w': 2, 'k': 3, 'e': 4}\n",
      "3\n",
      "{'k': 3}\n",
      "{'k': 3, 'e': 4}\n",
      "{'k': 3, 'e': 4, 'w': 5}\n"
     ]
    },
    {
     "data": {
      "text/plain": [
       "3"
      ]
     },
     "execution_count": 111,
     "metadata": {},
     "output_type": "execute_result"
    }
   ],
   "source": [
    "lengthOfLongestSubstring('pwwkew')"
   ]
  },
  {
   "cell_type": "code",
   "execution_count": 114,
   "metadata": {},
   "outputs": [],
   "source": [
    "def lengthOfLongestSubstring(s):\n",
    "        \"\"\"\n",
    "        :type s: str\n",
    "        :rtype: int\n",
    "        \"\"\"\n",
    "        lst = list()\n",
    "        for c in s:\n",
    "            lst.append(c)\n",
    "            print(lst)\n",
    "            if len(set(lst)) < len(lst):\n",
    "                lst.pop(0)\n",
    "                print(lst)\n",
    "        return len(lst)"
   ]
  },
  {
   "cell_type": "code",
   "execution_count": 115,
   "metadata": {},
   "outputs": [
    {
     "name": "stdout",
     "output_type": "stream",
     "text": [
      "['p']\n",
      "['p', 'w']\n",
      "['p', 'w', 'w']\n",
      "['w', 'w']\n",
      "['w', 'w', 'k']\n",
      "['w', 'k']\n",
      "['w', 'k', 'e']\n",
      "['w', 'k', 'e', 'w']\n",
      "['k', 'e', 'w']\n"
     ]
    },
    {
     "data": {
      "text/plain": [
       "3"
      ]
     },
     "execution_count": 115,
     "metadata": {},
     "output_type": "execute_result"
    }
   ],
   "source": [
    "lengthOfLongestSubstring('pwwkew')"
   ]
  },
  {
   "cell_type": "code",
   "execution_count": 122,
   "metadata": {},
   "outputs": [
    {
     "data": {
      "text/plain": [
       "'321'"
      ]
     },
     "execution_count": 122,
     "metadata": {},
     "output_type": "execute_result"
    }
   ],
   "source": [
    "x='123'\n",
    "x[::-1]"
   ]
  },
  {
   "cell_type": "code",
   "execution_count": 126,
   "metadata": {},
   "outputs": [
    {
     "name": "stdout",
     "output_type": "stream",
     "text": [
      "true\n",
      "true\n"
     ]
    }
   ],
   "source": [
    "s1='hello'\n",
    "s2='world'\n",
    "#flag\n",
    "for s in range(len(set(s1))):\n",
    "    if s1[s] in s2:\n",
    "        print('true')    \n",
    "    else:\n",
    "        pass\n",
    "        "
   ]
  },
  {
   "cell_type": "markdown",
   "metadata": {},
   "source": [
    "## hackerrank Minimum Swaps 2"
   ]
  },
  {
   "cell_type": "markdown",
   "metadata": {},
   "source": [
    "## what is enumerate?"
   ]
  },
  {
   "cell_type": "code",
   "execution_count": 127,
   "metadata": {},
   "outputs": [],
   "source": [
    "arr_list=[2,5,6,1,7]\n",
    "arr_dict={}\n",
    "for i,item in enumerate(arr_list):\n",
    "    arr_dict[item]=i"
   ]
  },
  {
   "cell_type": "code",
   "execution_count": 128,
   "metadata": {},
   "outputs": [
    {
     "data": {
      "text/plain": [
       "{2: 0, 5: 1, 6: 2, 1: 3, 7: 4}"
      ]
     },
     "execution_count": 128,
     "metadata": {},
     "output_type": "execute_result"
    }
   ],
   "source": [
    "arr_dict"
   ]
  },
  {
   "cell_type": "code",
   "execution_count": 176,
   "metadata": {},
   "outputs": [],
   "source": [
    "# Python3 program to find minimum number \n",
    "# of swaps required to sort an array \n",
    "\n",
    "# Function returns the minimum \n",
    "# number of swaps required to sort the array \n",
    "def minSwaps(arr): \n",
    "    n = len(arr) \n",
    "    \n",
    "\t# Create two arrays and use \n",
    "\t# as pairs where first array \n",
    "\t# is element and second array \n",
    "\t# is position of first element \n",
    "    arrpos = [*enumerate(arr)] \n",
    "    print(arrpos)\n",
    "\t\n",
    "\t# Sort the array by array element \n",
    "\t# values to get right position of \n",
    "\t# every element as the elements \n",
    "\t# of second array. \n",
    "    a=arrpos.sort(key = lambda it:it[1]) \n",
    "    print(arrpos)\n",
    "\t# To keep track of visited elements. \n",
    "\t# Initialize all elements as not \n",
    "\t# visited or false. \n",
    "    vis = {k:False for k in range(n)} \n",
    "\t\n",
    "\t# Initialize result \n",
    "    ans = 0\n",
    "    for i in range(n): \n",
    "\t\t\n",
    "\t\t# alreadt swapped or \n",
    "\t\t# alreadt present at \n",
    "\t\t# correct position \n",
    "        print(arrpos[i][0])\n",
    "        if vis[i] or arrpos[i][0] == i: \n",
    "            continue\n",
    "\t\t\t\n",
    "\t\t# find number of nodes \n",
    "\t\t# in this cycle and \n",
    "\t\t# add it to ans \n",
    "        cycle_size = 0\n",
    "        j = i \n",
    "        while not vis[j]: \n",
    "\t\t\t\n",
    "\t\t\t# mark node as visited \n",
    "            vis[j] = True\n",
    "\t\t\t\n",
    "\t\t\t# move to next node \n",
    "            j = arrpos[j][0]\n",
    "            print(\"value of j {}\".format(j))\n",
    "            cycle_size += 1\n",
    "\t\t\t\n",
    "\t\t# update answer by adding \n",
    "\t\t# current cycle \n",
    "        if cycle_size > 0: \n",
    "            ans += (cycle_size - 1) \n",
    "\t# return answer \n",
    "    return ans \n",
    "\n",
    "# Driver Code\t \n",
    "#arr = [1, 5, 4, 3, 2] \n",
    "#print(minSwaps(arr)) \n",
    "\n",
    "# This code is contributed \n",
    "# by Dharan Aditya \n"
   ]
  },
  {
   "cell_type": "code",
   "execution_count": 177,
   "metadata": {},
   "outputs": [
    {
     "name": "stdout",
     "output_type": "stream",
     "text": [
      "[(0, 7), (1, 1), (2, 3), (3, 2), (4, 4), (5, 5), (6, 6)]\n",
      "[(1, 1), (3, 2), (2, 3), (4, 4), (5, 5), (6, 6), (0, 7)]\n",
      "1\n",
      "value of j 1\n",
      "value of j 3\n",
      "value of j 4\n",
      "value of j 5\n",
      "value of j 6\n",
      "value of j 0\n",
      "3\n",
      "2\n",
      "4\n",
      "5\n",
      "6\n",
      "0\n",
      "5\n"
     ]
    }
   ],
   "source": [
    "print(minSwaps([7,1,3,2,4,5,6]))"
   ]
  },
  {
   "cell_type": "code",
   "execution_count": 178,
   "metadata": {},
   "outputs": [
    {
     "name": "stdout",
     "output_type": "stream",
     "text": [
      "[(0, 1), (1, 5), (2, 4), (3, 3), (4, 2)]\n",
      "[(0, 1), (4, 2), (3, 3), (2, 4), (1, 5)]\n",
      "0\n",
      "4\n",
      "value of j 4\n",
      "value of j 1\n",
      "3\n",
      "value of j 3\n",
      "value of j 2\n",
      "2\n",
      "1\n",
      "2\n"
     ]
    }
   ],
   "source": [
    "print(minSwaps([1,5,4,3,2]))"
   ]
  },
  {
   "cell_type": "code",
   "execution_count": null,
   "metadata": {},
   "outputs": [],
   "source": []
  }
 ],
 "metadata": {
  "kernelspec": {
   "display_name": "Python [conda env:mymlpython3.6]",
   "language": "python",
   "name": "conda-env-mymlpython3.6-py"
  },
  "language_info": {
   "codemirror_mode": {
    "name": "ipython",
    "version": 3
   },
   "file_extension": ".py",
   "mimetype": "text/x-python",
   "name": "python",
   "nbconvert_exporter": "python",
   "pygments_lexer": "ipython3",
   "version": "3.6.6"
  }
 },
 "nbformat": 4,
 "nbformat_minor": 2
}
